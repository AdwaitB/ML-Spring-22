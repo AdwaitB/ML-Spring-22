{
 "cells": [
  {
   "cell_type": "code",
   "execution_count": null,
   "metadata": {},
   "outputs": [],
   "source": [
    "import imageio\n",
    "import numpy as np\n",
    "import PIL\n",
    "import sklearn\n",
    "from skimage import color\n",
    "from skimage import io\n",
    "from sklearn.model_selection import train_test_split\n",
    "from skimage.transform import resize"
   ]
  },
  {
   "cell_type": "code",
   "execution_count": null,
   "metadata": {},
   "outputs": [],
   "source": [
    "# Display image\n",
    "nparray = np.array(PIL.Image.open('COVID/COVID-1.png'))\n",
    "print(nparray.shape)\n",
    "\n",
    "img = io.imread('COVID/COVID-1.png')\n",
    "print(img.shape)\n",
    "print(type(img))"
   ]
  },
  {
   "cell_type": "code",
   "execution_count": null,
   "metadata": {},
   "outputs": [],
   "source": [
    "def load_dataset(path, n_images):\n",
    "    \"\"\"\n",
    "    Args:\n",
    "        path: path to the dataset\n",
    "        n_images: number of images to load\n",
    "    Return:\n",
    "        dataset: a list of numpy arrays containing the images\n",
    "    \"\"\"\n",
    "    dataset = []\n",
    "    # Read all images in the folder\n",
    "    for filename in os.listdir(path)[:n_images]:\n",
    "        # Read image with numpy\n",
    "        image_as_np = io.imread(path + filename)\n",
    "        if len(image_as_np.shape) == 3:\n",
    "            image_as_np = color.rgb2gray(image_as_np)\n",
    "        # Add image to the dataset\n",
    "        dataset.append(image_as_np)\n",
    "\n",
    "    return dataset\n",
    "        \n"
   ]
  },
  {
   "cell_type": "code",
   "execution_count": null,
   "metadata": {},
   "outputs": [],
   "source": [
    "N_IMAGES = 400\n",
    "covid_images = load_dataset('COVID/', N_IMAGES)\n",
    "lung_opacity_images = load_dataset('Lung_Opacity/', N_IMAGES)\n",
    "normal_images = load_dataset('Normal/', N_IMAGES)\n",
    "viral_images = load_dataset('Viral Pneumonia/', N_IMAGES)\n",
    "\n",
    "# Resize images to 10x10\n",
    "RESOLUTION = 100\n",
    "covid_images = [resize(image, (RESOLUTION, RESOLUTION), anti_aliasing=True) for image in covid_images]\n",
    "lung_opacity_images = [resize(image, (RESOLUTION, RESOLUTION), anti_aliasing=True) for image in lung_opacity_images]\n",
    "normal_images = [resize(image, (RESOLUTION, RESOLUTION), anti_aliasing=True) for image in normal_images]\n",
    "viral_images = [resize(image, (RESOLUTION, RESOLUTION), anti_aliasing=True) for image in viral_images]\n",
    "\n",
    "print(covid_images[0].shape, lung_opacity_images[0].shape, normal_images[0].shape, viral_images[0].shape)\n",
    "\n",
    "# Flatten images\n",
    "covid_images = [image.flatten() for image in covid_images]\n",
    "lung_opacity_images = [image.flatten() for image in lung_opacity_images]\n",
    "normal_images = [image.flatten() for image in normal_images]\n",
    "viral_images = [image.flatten() for image in viral_images]\n",
    "\n",
    "print(covid_images[0].shape, lung_opacity_images[0].shape, normal_images[0].shape, viral_images[0].shape)\n",
    "\n",
    "X = np.concatenate((covid_images, lung_opacity_images, normal_images, viral_images))\n",
    "print(X.shape)\n"
   ]
  },
  {
   "cell_type": "code",
   "execution_count": null,
   "metadata": {},
   "outputs": [],
   "source": [
    "\n",
    "COVID_LABEL = 1\n",
    "LUNG_OPACITY_LABEL = 2\n",
    "NORMAL_LABEL = 3\n",
    "VIRAL_LABEL = 4\n",
    "\n",
    "labels = np.array([COVID_LABEL] * len(covid_images) + [LUNG_OPACITY_LABEL] * len(lung_opacity_images) + [NORMAL_LABEL] * len(normal_images) + [VIRAL_LABEL] * len(viral_images))\n",
    "print(labels)"
   ]
  },
  {
   "cell_type": "code",
   "execution_count": null,
   "metadata": {},
   "outputs": [],
   "source": [
    "# Test train split\n",
    "X_train, X_test, y_train, y_test = train_test_split(X, labels, test_size=0.3, shuffle=True)\n",
    "print(X_train.shape, X_test.shape, y_train.shape, y_test.shape)"
   ]
  },
  {
   "cell_type": "code",
   "execution_count": null,
   "metadata": {},
   "outputs": [],
   "source": [
    "# Gaussian NB\n",
    "from sklearn.naive_bayes import GaussianNB\n",
    "\n",
    "GNB = GaussianNB()\n",
    "GNB.fit(X_train, y_train)\n",
    "\n",
    "# Predict\n",
    "y_pred = GNB.predict(X_test)\n",
    "\n",
    "# Accuracy\n",
    "from sklearn.metrics import accuracy_score\n",
    "\n",
    "accuracy = accuracy_score(y_test, y_pred)\n",
    "print(accuracy)"
   ]
  }
 ],
 "metadata": {
  "interpreter": {
   "hash": "92b1e0bd00020b8614af0508b4a95851b0ac9bfd897ccf5b86bf9b1430e89a7e"
  },
  "kernelspec": {
   "display_name": "Python 3.10.1 64-bit ('MLEnv': venv)",
   "language": "python",
   "name": "python3"
  },
  "language_info": {
   "codemirror_mode": {
    "name": "ipython",
    "version": 3
   },
   "file_extension": ".py",
   "mimetype": "text/x-python",
   "name": "python",
   "nbconvert_exporter": "python",
   "pygments_lexer": "ipython3",
   "version": "3.10.1"
  },
  "orig_nbformat": 4
 },
 "nbformat": 4,
 "nbformat_minor": 2
}
