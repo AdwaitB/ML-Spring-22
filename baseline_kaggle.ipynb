{
  "cells": [
    {
      "cell_type": "code",
      "execution_count": 1,
      "metadata": {
        "colab": {
          "base_uri": "https://localhost:8080/"
        },
        "id": "EIivYRdpWUPL",
        "outputId": "d72db4cf-9c2f-4710-e955-03b490143ebf"
      },
      "outputs": [
        {
          "name": "stdout",
          "output_type": "stream",
          "text": [
            "Mounted at /content/drive\n"
          ]
        }
      ],
      "source": [
        "from google.colab import drive\n",
        "\n",
        "drive.mount(\"/content/drive\")"
      ]
    },
    {
      "cell_type": "code",
      "execution_count": 2,
      "metadata": {
        "id": "b1FKQSC3JmSA"
      },
      "outputs": [],
      "source": [
        "import os\n",
        "\n",
        "os.environ[\"KAGGLE_USERNAME\"] = \"\"\n",
        "os.environ[\"KAGGLE_KEY\"] = \"\""
      ]
    },
    {
      "cell_type": "code",
      "execution_count": 3,
      "metadata": {
        "colab": {
          "base_uri": "https://localhost:8080/"
        },
        "id": "oKTeX7ReJx6m",
        "outputId": "c82502ba-4284-4c8d-92ea-98875847e137"
      },
      "outputs": [
        {
          "name": "stdout",
          "output_type": "stream",
          "text": [
            "Downloading covid19-radiography-database.zip to /content\n",
            " 98% 764M/778M [00:05<00:00, 179MB/s]\n",
            "100% 778M/778M [00:05<00:00, 153MB/s]\n"
          ]
        }
      ],
      "source": [
        "!kaggle datasets download -d tawsifurrahman/covid19-radiography-database"
      ]
    },
    {
      "cell_type": "code",
      "execution_count": 4,
      "metadata": {
        "id": "7HGMDAISJ4qs"
      },
      "outputs": [],
      "source": [
        "!unzip -q \"/content/covid19-radiography-database.zip\""
      ]
    },
    {
      "cell_type": "code",
      "execution_count": 5,
      "metadata": {
        "id": "8khwEdU4KQ6M"
      },
      "outputs": [],
      "source": [
        "import imageio\n",
        "import numpy as np\n",
        "import PIL\n",
        "import sklearn\n",
        "from skimage import color\n",
        "from skimage import io\n",
        "from sklearn.model_selection import train_test_split\n",
        "from skimage.transform import resize\n",
        "from sklearn.metrics import accuracy_score\n",
        "\n",
        "from sklearn.naive_bayes import GaussianNB, MultinomialNB, BernoulliNB, ComplementNB\n",
        "from sklearn.ensemble import RandomForestClassifier\n",
        "from sklearn.svm import SVC\n",
        "from sklearn.neural_network import MLPClassifier"
      ]
    },
    {
      "cell_type": "code",
      "execution_count": 6,
      "metadata": {
        "colab": {
          "base_uri": "https://localhost:8080/"
        },
        "id": "iD-BvWAnKeb-",
        "outputId": "4f0bf5cb-fce9-4b95-ca14-5b876b646ba2"
      },
      "outputs": [
        {
          "name": "stdout",
          "output_type": "stream",
          "text": [
            "(299, 299)\n",
            "(299, 299)\n",
            "<class 'numpy.ndarray'>\n"
          ]
        }
      ],
      "source": [
        "root_folder = '/content/COVID-19_Radiography_Dataset/'\n",
        "\n",
        "# Display image\n",
        "nparray = np.array(PIL.Image.open(root_folder + 'COVID/images/COVID-1.png'))\n",
        "print(nparray.shape)\n",
        "\n",
        "img = io.imread(root_folder + 'COVID/images/COVID-1.png')\n",
        "print(img.shape)\n",
        "print(type(img))"
      ]
    },
    {
      "cell_type": "code",
      "execution_count": 7,
      "metadata": {
        "id": "KLrNIspFK83K"
      },
      "outputs": [],
      "source": [
        "from skimage.util import img_as_int\n",
        "def load_dataset(path, n_images, resolution):\n",
        "    \"\"\"\n",
        "    Args:\n",
        "        path: path to the dataset\n",
        "        n_images: number of images to load\n",
        "    Return:\n",
        "        dataset: a list of numpy arrays containing the images\n",
        "    \"\"\"\n",
        "    dataset = []\n",
        "    # Read all images in the folder\n",
        "    for filename in os.listdir(path+'images/')[:n_images]:\n",
        "        # Read image with numpy\n",
        "        image_as_np = io.imread(path + 'images/' + filename, as_gray=True)\n",
        "        # print(image_as_np.dtype)\n",
        "        mask_as_np = io.imread(path + 'masks/' + filename, as_gray=True)\n",
        "        # print(mask_as_np.dtype)\n",
        "        # Scale image to 255 to convert it to dtype unit8 from float64\n",
        "        mask_as_np = 255 * mask_as_np\n",
        "        mask_as_np = mask_as_np.astype(np.uint8) \n",
        "  \n",
        "        mask_as_np = resize(mask_as_np, (resolution, resolution), anti_aliasing=True)\n",
        "        image_as_np = resize(image_as_np, (resolution, resolution), anti_aliasing=True)\n",
        "  \n",
        "        im_mask_as_np = (image_as_np * (mask_as_np != 0))\n",
        "        # Add image to the dataset\n",
        "        dataset.append(im_mask_as_np)\n",
        "\n",
        "    return dataset"
      ]
    },
    {
      "cell_type": "code",
      "execution_count": 8,
      "metadata": {
        "colab": {
          "base_uri": "https://localhost:8080/",
          "height": 279
        },
        "id": "wN2H6_1NO5mD",
        "outputId": "61c8b083-3be0-48a2-ffb8-c91c491856aa"
      },
      "outputs": [
        {
          "name": "stdout",
          "output_type": "stream",
          "text": [
            "[0.64157108 0.59120971 0.54458824 ... 0.63335127 0.66780392 0.70749931]\n"
          ]
        },
        {
          "data": {
            "image/png": "[encoded data removed]",
            "text/plain": [
              "<Figure size 504x252 with 1 Axes>"
            ]
          },
          "metadata": {
            "needs_background": "light"
          },
          "output_type": "display_data"
        }
      ],
      "source": [
        "from matplotlib import pyplot as plt \n",
        "\n",
        "plt.rcParams[\"figure.figsize\"] = [7.00, 3.50] \n",
        "plt.rcParams[\"figure.autolayout\"] = True \n",
        "\n",
        "data = load_dataset(root_folder + 'COVID/', 1, 100)[0]\n",
        "\n",
        "print(data[np.where(data != 0)])\n",
        "\n",
        "plt.imshow(data, cmap='gray') \n",
        "plt.show()"
      ]
    },
    {
      "cell_type": "code",
      "execution_count": 10,
      "metadata": {
        "colab": {
          "base_uri": "https://localhost:8080/"
        },
        "id": "dKg1QSj-LBUI",
        "outputId": "acb5ede8-fb8b-40a0-da35-30aa4e445308"
      },
      "outputs": [
        {
          "name": "stdout",
          "output_type": "stream",
          "text": [
            "(64, 64) (64, 64) (64, 64) (64, 64)\n",
            "(4096,) (4096,) (4096,) (4096,)\n",
            "(21161, 4096)\n"
          ]
        }
      ],
      "source": [
        "root_folder = '/content/COVID-19_Radiography_Dataset/'\n",
        "\n",
        "N_IMAGES = -1\n",
        "# Resize images to 10x10\n",
        "RESOLUTION = 64\n",
        "covid_images = load_dataset(root_folder + 'COVID/', N_IMAGES, RESOLUTION)\n",
        "lung_opacity_images = load_dataset(root_folder + 'Lung_Opacity/', N_IMAGES, RESOLUTION)\n",
        "normal_images = load_dataset(root_folder + 'Normal/', N_IMAGES, RESOLUTION)\n",
        "viral_images = load_dataset(root_folder + 'Viral Pneumonia/', N_IMAGES, RESOLUTION)\n",
        "\n",
        "\n",
        "# covid_images = [resize(image, (RESOLUTION, RESOLUTION), anti_aliasing=True) for image in covid_images]\n",
        "# lung_opacity_images = [resize(image, (RESOLUTION, RESOLUTION), anti_aliasing=True) for image in lung_opacity_images]\n",
        "# normal_images = [resize(image, (RESOLUTION, RESOLUTION), anti_aliasing=True) for image in normal_images]\n",
        "# viral_images = [resize(image, (RESOLUTION, RESOLUTION), anti_aliasing=True) for image in viral_images]\n",
        "\n",
        "print(covid_images[0].shape, lung_opacity_images[0].shape, normal_images[0].shape, viral_images[0].shape)\n",
        "\n",
        "# Flatten images\n",
        "covid_images = [image.flatten() for image in covid_images]\n",
        "lung_opacity_images = [image.flatten() for image in lung_opacity_images]\n",
        "normal_images = [image.flatten() for image in normal_images]\n",
        "viral_images = [image.flatten() for image in viral_images]\n",
        "\n",
        "print(covid_images[0].shape, lung_opacity_images[0].shape, normal_images[0].shape, viral_images[0].shape)\n",
        "\n",
        "X = np.concatenate((covid_images, lung_opacity_images, normal_images, viral_images))\n",
        "print(X.shape)"
      ]
    },
    {
      "cell_type": "code",
      "execution_count": 11,
      "metadata": {
        "colab": {
          "base_uri": "https://localhost:8080/"
        },
        "id": "5vvdehVyLX9u",
        "outputId": "8707c51a-0ef7-4a20-fcc7-38f6dd0a08d4"
      },
      "outputs": [
        {
          "name": "stdout",
          "output_type": "stream",
          "text": [
            "[1 1 1 ... 4 4 4]\n"
          ]
        }
      ],
      "source": [
        "COVID_LABEL = 1\n",
        "LUNG_OPACITY_LABEL = 2\n",
        "NORMAL_LABEL = 3\n",
        "VIRAL_LABEL = 4\n",
        "\n",
        "labels = np.array([COVID_LABEL] * len(covid_images) + [LUNG_OPACITY_LABEL] * len(lung_opacity_images) + [NORMAL_LABEL] * len(normal_images) + [VIRAL_LABEL] * len(viral_images))\n",
        "print(labels)"
      ]
    },
    {
      "cell_type": "code",
      "execution_count": 12,
      "metadata": {
        "colab": {
          "base_uri": "https://localhost:8080/"
        },
        "id": "kdZPFmpILgde",
        "outputId": "ea48abbd-f9af-4889-fdbf-2d361ae4b12d"
      },
      "outputs": [
        {
          "name": "stdout",
          "output_type": "stream",
          "text": [
            "(14812, 4096) (6349, 4096) (14812,) (6349,)\n"
          ]
        }
      ],
      "source": [
        "# Test train split\n",
        "X_train, X_test, y_train, y_test = train_test_split(X, labels, test_size=0.3, shuffle=True)\n",
        "print(X_train.shape, X_test.shape, y_train.shape, y_test.shape)"
      ]
    },
    {
      "cell_type": "code",
      "execution_count": 13,
      "metadata": {
        "id": "LrfLeai9Li90"
      },
      "outputs": [],
      "source": [
        "def get_accuracy_for_model(X_train, X_test, y_train, y_test, model):\n",
        "    model.fit(X_train, y_train)\n",
        "    y_pred = model.predict(X_test)\n",
        "    return accuracy_score(y_test, y_pred)"
      ]
    },
    {
      "cell_type": "code",
      "execution_count": 14,
      "metadata": {
        "colab": {
          "base_uri": "https://localhost:8080/"
        },
        "id": "jiuSwj62LmW3",
        "outputId": "7e65e08f-c403-4720-bb1d-02cf7e80f1eb"
      },
      "outputs": [
        {
          "name": "stdout",
          "output_type": "stream",
          "text": [
            "0.18475350448889588\n"
          ]
        }
      ],
      "source": [
        "print(get_accuracy_for_model(X_train, X_test, y_train, y_test, GaussianNB()))"
      ]
    },
    {
      "cell_type": "code",
      "execution_count": 15,
      "metadata": {
        "colab": {
          "base_uri": "https://localhost:8080/"
        },
        "id": "hhYO1LLGLozJ",
        "outputId": "c925e6e9-8e7c-4b8f-9bc4-0fdeca0e6833"
      },
      "outputs": [
        {
          "name": "stdout",
          "output_type": "stream",
          "text": [
            "0.5507954008505277\n"
          ]
        }
      ],
      "source": [
        "print(get_accuracy_for_model(X_train, X_test, y_train, y_test, ComplementNB()))"
      ]
    },
    {
      "cell_type": "code",
      "execution_count": 16,
      "metadata": {
        "colab": {
          "base_uri": "https://localhost:8080/"
        },
        "id": "Cqb8pYWOLp7V",
        "outputId": "538b5fcf-3631-4cf4-d27f-a4fba5fb223d"
      },
      "outputs": [
        {
          "name": "stdout",
          "output_type": "stream",
          "text": [
            "0.5213419436131674\n"
          ]
        }
      ],
      "source": [
        "print(get_accuracy_for_model(X_train, X_test, y_train, y_test, BernoulliNB()))"
      ]
    },
    {
      "cell_type": "code",
      "execution_count": 17,
      "metadata": {
        "colab": {
          "base_uri": "https://localhost:8080/"
        },
        "id": "V--67ez_LrAd",
        "outputId": "4c0ee5eb-69d3-4818-aa24-7512dcf5f904"
      },
      "outputs": [
        {
          "name": "stdout",
          "output_type": "stream",
          "text": [
            "0.5197668924240038\n"
          ]
        }
      ],
      "source": [
        "print(get_accuracy_for_model(X_train, X_test, y_train, y_test, MultinomialNB()))"
      ]
    },
    {
      "cell_type": "code",
      "execution_count": 19,
      "metadata": {
        "colab": {
          "base_uri": "https://localhost:8080/"
        },
        "id": "SfgiEZYKLs-v",
        "outputId": "b176aae6-4b58-4d00-9ab2-a17f49a4676f"
      },
      "outputs": [
        {
          "name": "stdout",
          "output_type": "stream",
          "text": [
            "0.7596471885336273\n"
          ]
        }
      ],
      "source": [
        "print(get_accuracy_for_model(X_train, X_test, y_train, y_test, RandomForestClassifier()))"
      ]
    },
    {
      "cell_type": "code",
      "execution_count": 21,
      "metadata": {
        "colab": {
          "base_uri": "https://localhost:8080/"
        },
        "id": "9lBzqn5ALtz7",
        "outputId": "471ecf62-105b-475a-edb3-121c99f6669c"
      },
      "outputs": [
        {
          "name": "stdout",
          "output_type": "stream",
          "text": [
            "0.7590171680579619\n"
          ]
        }
      ],
      "source": [
        "print(get_accuracy_for_model(X_train, X_test, y_train, y_test, SVC()))"
      ]
    },
    {
      "cell_type": "code",
      "execution_count": 20,
      "metadata": {
        "colab": {
          "base_uri": "https://localhost:8080/"
        },
        "id": "UIN_58qILu2j",
        "outputId": "218e55a5-02fd-4b52-84ac-f9982bd8b938"
      },
      "outputs": [
        {
          "name": "stdout",
          "output_type": "stream",
          "text": [
            "0.7215309497558671\n"
          ]
        }
      ],
      "source": [
        "print(get_accuracy_for_model(X_train, X_test, y_train, y_test, MLPClassifier(learning_rate='adaptive', max_iter=300)))"
      ]
    }
  ],
  "metadata": {
    "colab": {
      "collapsed_sections": [],
      "name": "my_notebook.ipynb",
      "provenance": []
    },
    "kernelspec": {
      "display_name": "Python 3",
      "name": "python3"
    },
    "language_info": {
      "name": "python"
    }
  },
  "nbformat": 4,
  "nbformat_minor": 0
}
