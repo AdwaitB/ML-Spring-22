{
  "cells": [
    {
      "cell_type": "code",
      "execution_count": null,
      "metadata": {
        "id": "xiDQLDlH9gp7"
      },
      "outputs": [],
      "source": [
        "import imageio\n",
        "import numpy as np\n",
        "import PIL\n",
        "import sklearn\n",
        "from skimage import color\n",
        "from skimage import io\n",
        "from skimage.util import img_as_int\n",
        "from sklearn.model_selection import train_test_split\n",
        "from skimage.transform import resize\n",
        "from sklearn.metrics import accuracy_score\n",
        "\n",
        "from sklearn.naive_bayes import GaussianNB, MultinomialNB, BernoulliNB, ComplementNB\n",
        "from sklearn.ensemble import RandomForestClassifier\n",
        "from sklearn.svm import SVC\n",
        "from sklearn.neural_network import MLPClassifier\n",
        "\n",
        "from google.colab import drive\n",
        "# drive.mount('')"
      ]
    },
    {
      "cell_type": "code",
      "execution_count": null,
      "metadata": {
        "colab": {
          "base_uri": "https://localhost:8080/"
        },
        "id": "GVlnTBeN-OWg",
        "outputId": "32fa14eb-8d41-419f-a3d6-4069bcc376ec"
      },
      "outputs": [
        {
          "output_type": "stream",
          "name": "stdout",
          "text": [
            "Drive already mounted at /content/drive; to attempt to forcibly remount, call drive.mount(\"/content/drive\", force_remount=True).\n"
          ]
        }
      ],
      "source": [
        "from google.colab import drive\n",
        "drive.mount('/content/drive')"
      ]
    },
    {
      "cell_type": "code",
      "source": [
        "import os\n",
        "os.environ['KAGGLE_USERNAME'] = \"kevinssssssssss\"\n",
        "# username from the json file\n",
        "os.environ['KAGGLE_KEY'] = \"bf8e54c32881fe35ab6798a9c0737c1f\"\n"
      ],
      "metadata": {
        "id": "g2pn_c5sQ5Z6"
      },
      "execution_count": null,
      "outputs": []
    },
    {
      "cell_type": "code",
      "source": [
        "!kaggle datasets download -d tawsifurrahman/covid19-radiography-database"
      ],
      "metadata": {
        "colab": {
          "base_uri": "https://localhost:8080/"
        },
        "id": "uyz_-bm2RMW9",
        "outputId": "0b3cff1a-c244-46c9-eb24-63539eb44757"
      },
      "execution_count": null,
      "outputs": [
        {
          "output_type": "stream",
          "name": "stdout",
          "text": [
            "covid19-radiography-database.zip: Skipping, found more recently modified local copy (use --force to force download)\n"
          ]
        }
      ]
    },
    {
      "cell_type": "code",
      "source": [
        "!unzip -q /content/covid19-radiography-database.zip\n"
      ],
      "metadata": {
        "colab": {
          "base_uri": "https://localhost:8080/"
        },
        "id": "900k4AeBRWqH",
        "outputId": "54889abe-e00a-4a6b-a7fa-4e72c84c335c"
      },
      "execution_count": null,
      "outputs": [
        {
          "output_type": "stream",
          "name": "stdout",
          "text": [
            "replace COVID-19_Radiography_Dataset/COVID.metadata.xlsx? [y]es, [n]o, [A]ll, [N]one, [r]ename: A\n"
          ]
        }
      ]
    },
    {
      "cell_type": "markdown",
      "metadata": {
        "id": "1eZKyG0Q90U-"
      },
      "source": [
        "# Processing"
      ]
    },
    {
      "cell_type": "code",
      "execution_count": null,
      "metadata": {
        "id": "O5mYskGo9gqC"
      },
      "outputs": [],
      "source": [
        "from skimage.util import img_as_int\n",
        "def load_dataset(path, n_images, resolution):\n",
        "    \"\"\"\n",
        "    Args:\n",
        "        path: path to the dataset\n",
        "        n_images: number of images to load\n",
        "    Return:\n",
        "        dataset: a list of numpy arrays containing the images\n",
        "    \"\"\"\n",
        "    dataset = []\n",
        "    # Read all images in the folder\n",
        "    for filename in os.listdir(path+'images/')[:n_images]:\n",
        "        # Read image with numpy\n",
        "        image_as_np = io.imread(path + 'images/' + filename, as_gray=True)\n",
        "        # print(image_as_np.dtype)\n",
        "        mask_as_np = io.imread(path + 'masks/' + filename, as_gray=True)\n",
        "        # print(mask_as_np.dtype)\n",
        "        # Scale image to 255 to convert it to dtype unit8 from float64\n",
        "        mask_as_np = 255 * mask_as_np\n",
        "        mask_as_np = mask_as_np.astype(np.uint8) \n",
        "  \n",
        "        mask_as_np = resize(mask_as_np, (resolution, resolution), anti_aliasing=True)\n",
        "        image_as_np = resize(image_as_np, (resolution, resolution), anti_aliasing=True)\n",
        "  \n",
        "        im_mask_as_np = (image_as_np.astype(np.uint8) & mask_as_np.astype(np.uint8))\n",
        "        # Add image to the dataset\n",
        "        dataset.append(im_mask_as_np)\n",
        "\n",
        "    return dataset\n",
        "        \n"
      ]
    },
    {
      "cell_type": "code",
      "execution_count": null,
      "metadata": {
        "colab": {
          "base_uri": "https://localhost:8080/"
        },
        "id": "rT11FGkT9gqC",
        "outputId": "aeb5f8b8-a2bd-424d-ea25-669da207f7fc"
      },
      "outputs": [
        {
          "output_type": "stream",
          "name": "stdout",
          "text": [
            "(100, 100) (100, 100) (100, 100) (100, 100)\n",
            "(10000,) (10000,) (10000,) (10000,)\n",
            "(21161, 10000)\n"
          ]
        }
      ],
      "source": [
        "root_folder = '/content/COVID-19_Radiography_Dataset/'\n",
        "\n",
        "N_IMAGES = -1\n",
        "# Resize images to 10x10\n",
        "RESOLUTION = 100\n",
        "covid_images = load_dataset(root_folder + 'COVID/', N_IMAGES, RESOLUTION)\n",
        "lung_opacity_images = load_dataset(root_folder + 'Lung_Opacity/', N_IMAGES, RESOLUTION)\n",
        "normal_images = load_dataset(root_folder + 'Normal/', N_IMAGES, RESOLUTION)\n",
        "viral_images = load_dataset(root_folder + 'Viral Pneumonia/', N_IMAGES, RESOLUTION)\n",
        "\n",
        "\n",
        "# covid_images = [resize(image, (RESOLUTION, RESOLUTION), anti_aliasing=True) for image in covid_images]\n",
        "# lung_opacity_images = [resize(image, (RESOLUTION, RESOLUTION), anti_aliasing=True) for image in lung_opacity_images]\n",
        "# normal_images = [resize(image, (RESOLUTION, RESOLUTION), anti_aliasing=True) for image in normal_images]\n",
        "# viral_images = [resize(image, (RESOLUTION, RESOLUTION), anti_aliasing=True) for image in viral_images]\n",
        "\n",
        "print(covid_images[0].shape, lung_opacity_images[0].shape, normal_images[0].shape, viral_images[0].shape)\n",
        "\n",
        "# Flatten images\n",
        "covid_images = [image.flatten() for image in covid_images]\n",
        "lung_opacity_images = [image.flatten() for image in lung_opacity_images]\n",
        "normal_images = [image.flatten() for image in normal_images]\n",
        "viral_images = [image.flatten() for image in viral_images]\n",
        "\n",
        "print(covid_images[0].shape, lung_opacity_images[0].shape, normal_images[0].shape, viral_images[0].shape)\n",
        "\n",
        "X = np.concatenate((covid_images, lung_opacity_images, normal_images, viral_images))\n",
        "print(X.shape)\n"
      ]
    },
    {
      "cell_type": "code",
      "execution_count": null,
      "metadata": {
        "colab": {
          "base_uri": "https://localhost:8080/"
        },
        "id": "FKfrRvn89gqD",
        "outputId": "c2de95de-a57d-403e-c605-dbe8ebe18c8e"
      },
      "outputs": [
        {
          "output_type": "stream",
          "name": "stdout",
          "text": [
            "[1 1 1 ... 4 4 4]\n"
          ]
        }
      ],
      "source": [
        "\n",
        "COVID_LABEL = 1\n",
        "LUNG_OPACITY_LABEL = 2\n",
        "NORMAL_LABEL = 3\n",
        "VIRAL_LABEL = 4\n",
        "\n",
        "labels = np.array([COVID_LABEL] * len(covid_images) + [LUNG_OPACITY_LABEL] * len(lung_opacity_images) + [NORMAL_LABEL] * len(normal_images) + [VIRAL_LABEL] * len(viral_images))\n",
        "print(labels)"
      ]
    },
    {
      "cell_type": "code",
      "execution_count": null,
      "metadata": {
        "colab": {
          "base_uri": "https://localhost:8080/"
        },
        "id": "VmHHNTDX9gqE",
        "outputId": "8f491166-0348-49f1-d249-99f31a3e0f46"
      },
      "outputs": [
        {
          "output_type": "stream",
          "name": "stdout",
          "text": [
            "(14812, 10000) (6349, 10000) (14812,) (6349,)\n"
          ]
        }
      ],
      "source": [
        "# Test train split\n",
        "X_train, X_test, y_train, y_test = train_test_split(X, labels, test_size=0.3, shuffle=True)\n",
        "print(X_train.shape, X_test.shape, y_train.shape, y_test.shape)"
      ]
    },
    {
      "cell_type": "code",
      "execution_count": null,
      "metadata": {
        "id": "bsM1_yMZ9gqE"
      },
      "outputs": [],
      "source": [
        "def get_accuracy_for_model(X_train, X_test, y_train, y_test, model):\n",
        "    model.fit(X_train, y_train)\n",
        "    y_pred = model.predict(X_test)\n",
        "    return accuracy_score(y_test, y_pred)"
      ]
    },
    {
      "cell_type": "code",
      "execution_count": null,
      "metadata": {
        "colab": {
          "base_uri": "https://localhost:8080/"
        },
        "id": "O1AkUEyJ9gqF",
        "outputId": "e0b0ae9a-83a2-4892-c789-8adf664a039c"
      },
      "outputs": [
        {
          "output_type": "stream",
          "name": "stderr",
          "text": [
            "/usr/local/lib/python3.7/dist-packages/sklearn/naive_bayes.py:489: RuntimeWarning: divide by zero encountered in log\n",
            "  n_ij = -0.5 * np.sum(np.log(2.0 * np.pi * self.var_[i, :]))\n",
            "/usr/local/lib/python3.7/dist-packages/sklearn/naive_bayes.py:490: RuntimeWarning: invalid value encountered in true_divide\n",
            "  n_ij -= 0.5 * np.sum(((X - self.theta_[i, :]) ** 2) / (self.var_[i, :]), 1)\n"
          ]
        },
        {
          "output_type": "stream",
          "name": "stdout",
          "text": [
            "0.1655378799810994\n"
          ]
        }
      ],
      "source": [
        "print(get_accuracy_for_model(X_train, X_test, y_train, y_test, GaussianNB()))"
      ]
    },
    {
      "cell_type": "code",
      "execution_count": null,
      "metadata": {
        "colab": {
          "base_uri": "https://localhost:8080/"
        },
        "id": "L1nNcuCZ9gqG",
        "outputId": "08d0a92f-a8b7-41ff-ca42-eed2173f9d00"
      },
      "outputs": [
        {
          "output_type": "stream",
          "name": "stdout",
          "text": [
            "0.1655378799810994\n"
          ]
        }
      ],
      "source": [
        "print(get_accuracy_for_model(X_train, X_test, y_train, y_test, ComplementNB()))"
      ]
    },
    {
      "cell_type": "code",
      "execution_count": null,
      "metadata": {
        "colab": {
          "base_uri": "https://localhost:8080/"
        },
        "id": "NBmnWdEX9gqH",
        "outputId": "1cc47561-d9c3-49a8-8cad-1d8b84154a87"
      },
      "outputs": [
        {
          "output_type": "stream",
          "name": "stdout",
          "text": [
            "0.47692550007875256\n"
          ]
        }
      ],
      "source": [
        "print(get_accuracy_for_model(X_train, X_test, y_train, y_test, BernoulliNB()))"
      ]
    },
    {
      "cell_type": "code",
      "execution_count": null,
      "metadata": {
        "colab": {
          "base_uri": "https://localhost:8080/"
        },
        "id": "_LyxqyIG9gqH",
        "outputId": "a2e6560a-c872-477b-f0f1-267286999668"
      },
      "outputs": [
        {
          "output_type": "stream",
          "name": "stdout",
          "text": [
            "0.47692550007875256\n"
          ]
        }
      ],
      "source": [
        "print(get_accuracy_for_model(X_train, X_test, y_train, y_test, MultinomialNB()))"
      ]
    },
    {
      "cell_type": "code",
      "execution_count": null,
      "metadata": {
        "colab": {
          "base_uri": "https://localhost:8080/"
        },
        "id": "NxWYEL_79gqH",
        "outputId": "8fee8306-0d07-4c7a-8f79-2819b8072dbb"
      },
      "outputs": [
        {
          "output_type": "stream",
          "name": "stdout",
          "text": [
            "0.47692550007875256\n"
          ]
        }
      ],
      "source": [
        "print(get_accuracy_for_model(X_train, X_test, y_train, y_test, MultinomialNB()))"
      ]
    },
    {
      "cell_type": "code",
      "execution_count": null,
      "metadata": {
        "colab": {
          "base_uri": "https://localhost:8080/"
        },
        "id": "0-mnu4Si9gqI",
        "outputId": "4c80a475-688b-4686-cbf5-7a558c9e432a"
      },
      "outputs": [
        {
          "output_type": "stream",
          "name": "stdout",
          "text": [
            "0.47692550007875256\n"
          ]
        }
      ],
      "source": [
        "print(get_accuracy_for_model(X_train, X_test, y_train, y_test, RandomForestClassifier()))"
      ]
    },
    {
      "cell_type": "code",
      "execution_count": null,
      "metadata": {
        "colab": {
          "base_uri": "https://localhost:8080/"
        },
        "id": "wzza1KYY9gqI",
        "outputId": "6eefb7f0-fef2-4869-d633-f1ff6e067671"
      },
      "outputs": [
        {
          "output_type": "stream",
          "name": "stdout",
          "text": [
            "0.47692550007875256\n"
          ]
        }
      ],
      "source": [
        "print(get_accuracy_for_model(X_train, X_test, y_train, y_test, SVC()))\n"
      ]
    },
    {
      "cell_type": "code",
      "execution_count": null,
      "metadata": {
        "colab": {
          "base_uri": "https://localhost:8080/"
        },
        "id": "N6tOWBUZ9gqI",
        "outputId": "da00e1b2-b11e-4b40-ae87-93ee74e053c9"
      },
      "outputs": [
        {
          "output_type": "stream",
          "name": "stdout",
          "text": [
            "0.47692550007875256\n"
          ]
        }
      ],
      "source": [
        "print(get_accuracy_for_model(X_train, X_test, y_train, y_test, MLPClassifier(learning_rate='adaptive', max_iter=300)))"
      ]
    },
    {
      "cell_type": "code",
      "execution_count": null,
      "metadata": {
        "id": "Clzthlgx9gqJ"
      },
      "outputs": [],
      "source": [
        ""
      ]
    }
  ],
  "metadata": {
    "colab": {
      "name": "Baseline_COVID19_Dataset.ipynb",
      "provenance": [],
      "collapsed_sections": []
    },
    "interpreter": {
      "hash": "92b1e0bd00020b8614af0508b4a95851b0ac9bfd897ccf5b86bf9b1430e89a7e"
    },
    "kernelspec": {
      "display_name": "Python 3.10.1 64-bit ('MLEnv': venv)",
      "language": "python",
      "name": "python3"
    },
    "language_info": {
      "codemirror_mode": {
        "name": "ipython",
        "version": 3
      },
      "file_extension": ".py",
      "mimetype": "text/x-python",
      "name": "python",
      "nbconvert_exporter": "python",
      "pygments_lexer": "ipython3",
      "version": "3.10.1"
    }
  },
  "nbformat": 4,
  "nbformat_minor": 0
}