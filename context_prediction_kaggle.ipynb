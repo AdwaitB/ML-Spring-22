{
  "nbformat": 4,
  "nbformat_minor": 0,
  "metadata": {
    "colab": {
      "name": "context_prediction.ipynb",
      "provenance": [],
      "collapsed_sections": []
    },
    "kernelspec": {
      "display_name": "Python 3",
      "name": "python3"
    },
    "language_info": {
      "name": "python"
    }
  },
  "cells": [
    {
      "cell_type": "code",
      "metadata": {
        "id": "YA8oW-LV9b_e"
      },
      "source": [
        "import torch\n",
        "import torch.nn as nn\n",
        "from torch.autograd import Variable\n",
        "import torch.optim as optim\n",
        "from torch.utils.data import Dataset, DataLoader\n",
        "from torchvision import models, datasets\n",
        " \n",
        "import torchvision\n",
        "from torchvision import transforms\n",
        "from torchvision import models\n",
        " \n",
        "import torch.nn.functional as F\n",
        "import torchvision.transforms.functional as TF\n",
        " \n",
        "import albumentations\n",
        " \n",
        "from PIL import Image\n",
        "import numpy as np\n",
        "import os\n",
        "import matplotlib.pyplot as plt\n",
        "import random\n",
        "import time\n",
        "import nibabel as nib\n",
        "from tqdm import tqdm\n",
        "import pandas as pd\n",
        "\n",
        "import skimage\n",
        "from skimage import img_as_ubyte, img_as_float32\n",
        "\n",
        "from sklearn.model_selection import StratifiedShuffleSplit\n",
        "\n",
        "from glob import glob\n",
        "\n",
        "np.random.seed(108)\n",
        " \n",
        "plt.style.use('default')\n",
        " \n",
        "device = torch.device('cuda' if torch.cuda.is_available() else 'cpu')\n",
        " \n",
        "visualize = False"
      ],
      "execution_count": 1,
      "outputs": []
    },
    {
      "cell_type": "code",
      "metadata": {
        "id": "fyR-Z6Bx9ja5"
      },
      "source": [
        "class Config():\n",
        "  ROOT = 'COVID'\n",
        "  TRAIN_PATH = 'COVID'\n",
        "  VAL_PATH = 'COVID'\n",
        "  TEST_PATH = 'COVID'\n",
        "  subset_data = 1000\n",
        "  patch_dim = 9\n",
        "  gap = 2\n",
        "  batch_size = 64\n",
        "  num_epochs = 50\n",
        "  lr = 0.05"
      ],
      "execution_count": 2,
      "outputs": []
    },
    {
      "cell_type": "code",
      "metadata": {
        "id": "nE-sDhu2-p4C"
      },
      "source": [
        "def imshow(img,text=None,should_save=False):\n",
        "    plt.figure(figsize=(10, 10))\n",
        "    npimg = img.numpy()\n",
        "    plt.axis(\"off\")\n",
        "    if text:\n",
        "        plt.text(75, 8, text, style='italic',fontweight='bold',\n",
        "            bbox={'facecolor':'white', 'alpha':0.8, 'pad':10})\n",
        "    plt.imshow(np.transpose(npimg, (1, 2, 0)))\n",
        "    plt.show()  \n",
        "\n",
        "def show_plot(iteration,loss,fname):\n",
        "    plt.plot(iteration,loss)\n",
        "    plt.savefig(fname)\n",
        "    plt.show()"
      ],
      "execution_count": 3,
      "outputs": []
    },
    {
      "cell_type": "code",
      "metadata": {
        "id": "xit7UOri-uVR"
      },
      "source": [
        "\"\"\"\n",
        "Args:\n",
        "    tensor (Tensor): Tensor image of size (C, H, W) to be normalized.\n",
        "Returns:\n",
        "    Tensor: Normalized image.\n",
        "\"\"\"\n",
        "class UnNormalize(object):\n",
        "    def __init__(self, mean, std):\n",
        "        self.mean = mean\n",
        "        self.std = std\n",
        "\n",
        "    def __call__(self, tensor):\n",
        "        for t, m, s in zip(tensor, self.mean, self.std):\n",
        "            t.mul_(s).add_(m)\n",
        "        return tensor\n",
        "\n",
        "unorm = UnNormalize(mean=(0.485, 0.456, 0.406), std=(0.229, 0.224, 0.225))\n",
        "# unorm(tensor)"
      ],
      "execution_count": 4,
      "outputs": []
    },
    {
      "cell_type": "code",
      "metadata": {
        "id": "7K_aCPPn-xN7"
      },
      "source": [
        "def convert_format(data, format):\n",
        "  if format == 'p':\n",
        "    return np.transpose(data, (0, 3, 1, 2))\n",
        "  if format == 'n':\n",
        "    return np.transpose(data, (0, 2, 3, 1))\n",
        "  if format == '3':\n",
        "    return np.transpose(data, (1, 2, 0))"
      ],
      "execution_count": 5,
      "outputs": []
    },
    {
      "cell_type": "code",
      "metadata": {
        "colab": {
          "base_uri": "https://localhost:8080/"
        },
        "id": "z1pWtrFK-z7v",
        "outputId": "0969b34d-913d-4427-c422-d33e02fe1960"
      },
      "source": [
        "from google.colab import drive\n",
        "drive.mount('/content/drive')\n",
        "\n",
        "%cd /content/drive/My\\ Drive/"
      ],
      "execution_count": 6,
      "outputs": [
        {
          "output_type": "stream",
          "name": "stdout",
          "text": [
            "Drive already mounted at /content/drive; to attempt to forcibly remount, call drive.mount(\"/content/drive\", force_remount=True).\n",
            "/content/drive/My Drive\n"
          ]
        }
      ]
    },
    {
      "cell_type": "code",
      "metadata": {
        "colab": {
          "base_uri": "https://localhost:8080/",
          "height": 295
        },
        "id": "bTempMHt-8FX",
        "outputId": "8a0e886e-e2d1-495f-8443-48e05bd2d63d"
      },
      "source": [
        "#############################\n",
        "# Creating training dataset\n",
        "#############################\n",
        "df_list = [] \n",
        "classes = os.listdir(Config.TRAIN_PATH)\n",
        "print(classes)\n",
        "for idx, each_class in enumerate(classes):\n",
        "  #print(idx)\n",
        "  #print(each_class)\n",
        "  images_in_each_class = glob(f'{Config.TRAIN_PATH}/{each_class}/images/*.png')\n",
        "  #print(images_in_each_class)\n",
        "  df_list += [[each_image, each_class] for each_image in images_in_each_class]\n",
        "\n",
        "df = pd.DataFrame(data=df_list, columns=['filename', 'class'])\n",
        "\n",
        "# Taking the classes subset\n",
        "num_training_classes_subset = 4\n",
        "train_classes_used = df['class'].unique()[:num_training_classes_subset]\n",
        "df = df[df['class'].isin(train_classes_used)]\n",
        "# df.groupby('class').count()\n",
        "print(df.shape)\n",
        "\n",
        "X, y = df['filename'], df['class']\n",
        "ratio = Config.subset_data/len(X)\n",
        "sss = StratifiedShuffleSplit(n_splits=5, train_size=ratio, random_state=0)\n",
        "sss.get_n_splits(X, y)\n",
        "\n",
        "print(sss)\n",
        "\n",
        "for train_index, test_index in sss.split(X, y):\n",
        "    print(\"TRAIN:\", len(train_index), \"TEST:\", len(test_index))\n",
        "    stratified1000trn = train_index\n",
        "    break\n",
        "\n",
        "df_trn = df.iloc[stratified1000trn].reset_index(drop=True)\n",
        "df_trn.head()"
      ],
      "execution_count": 18,
      "outputs": [
        {
          "output_type": "stream",
          "name": "stdout",
          "text": [
            "['Lung_Opacity', 'Viral Pneumonia', 'Normal', 'COVID']\n",
            "(21225, 2)\n",
            "StratifiedShuffleSplit(n_splits=5, random_state=0, test_size=None,\n",
            "            train_size=0.04711425206124853)\n",
            "TRAIN: 1000 TEST: 20225\n"
          ]
        },
        {
          "output_type": "execute_result",
          "data": {
            "text/plain": [
              "                                          filename         class\n",
              "0                COVID/COVID/images/COVID-2795.png         COVID\n",
              "1  COVID/Lung_Opacity/images/Lung_Opacity-2723.png  Lung_Opacity\n",
              "2                COVID/COVID/images/COVID-2840.png         COVID\n",
              "3  COVID/Lung_Opacity/images/Lung_Opacity-2966.png  Lung_Opacity\n",
              "4                 COVID/COVID/images/COVID-933.png         COVID"
            ],
            "text/html": [
              "\n",
              "  <div id=\"df-37fa35c3-faa6-4182-9293-4d967f598919\">\n",
              "    <div class=\"colab-df-container\">\n",
              "      <div>\n",
              "<style scoped>\n",
              "    .dataframe tbody tr th:only-of-type {\n",
              "        vertical-align: middle;\n",
              "    }\n",
              "\n",
              "    .dataframe tbody tr th {\n",
              "        vertical-align: top;\n",
              "    }\n",
              "\n",
              "    .dataframe thead th {\n",
              "        text-align: right;\n",
              "    }\n",
              "</style>\n",
              "<table border=\"1\" class=\"dataframe\">\n",
              "  <thead>\n",
              "    <tr style=\"text-align: right;\">\n",
              "      <th></th>\n",
              "      <th>filename</th>\n",
              "      <th>class</th>\n",
              "    </tr>\n",
              "  </thead>\n",
              "  <tbody>\n",
              "    <tr>\n",
              "      <th>0</th>\n",
              "      <td>COVID/COVID/images/COVID-2795.png</td>\n",
              "      <td>COVID</td>\n",
              "    </tr>\n",
              "    <tr>\n",
              "      <th>1</th>\n",
              "      <td>COVID/Lung_Opacity/images/Lung_Opacity-2723.png</td>\n",
              "      <td>Lung_Opacity</td>\n",
              "    </tr>\n",
              "    <tr>\n",
              "      <th>2</th>\n",
              "      <td>COVID/COVID/images/COVID-2840.png</td>\n",
              "      <td>COVID</td>\n",
              "    </tr>\n",
              "    <tr>\n",
              "      <th>3</th>\n",
              "      <td>COVID/Lung_Opacity/images/Lung_Opacity-2966.png</td>\n",
              "      <td>Lung_Opacity</td>\n",
              "    </tr>\n",
              "    <tr>\n",
              "      <th>4</th>\n",
              "      <td>COVID/COVID/images/COVID-933.png</td>\n",
              "      <td>COVID</td>\n",
              "    </tr>\n",
              "  </tbody>\n",
              "</table>\n",
              "</div>\n",
              "      <button class=\"colab-df-convert\" onclick=\"convertToInteractive('df-37fa35c3-faa6-4182-9293-4d967f598919')\"\n",
              "              title=\"Convert this dataframe to an interactive table.\"\n",
              "              style=\"display:none;\">\n",
              "        \n",
              "  <svg xmlns=\"http://www.w3.org/2000/svg\" height=\"24px\"viewBox=\"0 0 24 24\"\n",
              "       width=\"24px\">\n",
              "    <path d=\"M0 0h24v24H0V0z\" fill=\"none\"/>\n",
              "    <path d=\"M18.56 5.44l.94 2.06.94-2.06 2.06-.94-2.06-.94-.94-2.06-.94 2.06-2.06.94zm-11 1L8.5 8.5l.94-2.06 2.06-.94-2.06-.94L8.5 2.5l-.94 2.06-2.06.94zm10 10l.94 2.06.94-2.06 2.06-.94-2.06-.94-.94-2.06-.94 2.06-2.06.94z\"/><path d=\"M17.41 7.96l-1.37-1.37c-.4-.4-.92-.59-1.43-.59-.52 0-1.04.2-1.43.59L10.3 9.45l-7.72 7.72c-.78.78-.78 2.05 0 2.83L4 21.41c.39.39.9.59 1.41.59.51 0 1.02-.2 1.41-.59l7.78-7.78 2.81-2.81c.8-.78.8-2.07 0-2.86zM5.41 20L4 18.59l7.72-7.72 1.47 1.35L5.41 20z\"/>\n",
              "  </svg>\n",
              "      </button>\n",
              "      \n",
              "  <style>\n",
              "    .colab-df-container {\n",
              "      display:flex;\n",
              "      flex-wrap:wrap;\n",
              "      gap: 12px;\n",
              "    }\n",
              "\n",
              "    .colab-df-convert {\n",
              "      background-color: #E8F0FE;\n",
              "      border: none;\n",
              "      border-radius: 50%;\n",
              "      cursor: pointer;\n",
              "      display: none;\n",
              "      fill: #1967D2;\n",
              "      height: 32px;\n",
              "      padding: 0 0 0 0;\n",
              "      width: 32px;\n",
              "    }\n",
              "\n",
              "    .colab-df-convert:hover {\n",
              "      background-color: #E2EBFA;\n",
              "      box-shadow: 0px 1px 2px rgba(60, 64, 67, 0.3), 0px 1px 3px 1px rgba(60, 64, 67, 0.15);\n",
              "      fill: #174EA6;\n",
              "    }\n",
              "\n",
              "    [theme=dark] .colab-df-convert {\n",
              "      background-color: #3B4455;\n",
              "      fill: #D2E3FC;\n",
              "    }\n",
              "\n",
              "    [theme=dark] .colab-df-convert:hover {\n",
              "      background-color: #434B5C;\n",
              "      box-shadow: 0px 1px 3px 1px rgba(0, 0, 0, 0.15);\n",
              "      filter: drop-shadow(0px 1px 2px rgba(0, 0, 0, 0.3));\n",
              "      fill: #FFFFFF;\n",
              "    }\n",
              "  </style>\n",
              "\n",
              "      <script>\n",
              "        const buttonEl =\n",
              "          document.querySelector('#df-37fa35c3-faa6-4182-9293-4d967f598919 button.colab-df-convert');\n",
              "        buttonEl.style.display =\n",
              "          google.colab.kernel.accessAllowed ? 'block' : 'none';\n",
              "\n",
              "        async function convertToInteractive(key) {\n",
              "          const element = document.querySelector('#df-37fa35c3-faa6-4182-9293-4d967f598919');\n",
              "          const dataTable =\n",
              "            await google.colab.kernel.invokeFunction('convertToInteractive',\n",
              "                                                     [key], {});\n",
              "          if (!dataTable) return;\n",
              "\n",
              "          const docLinkHtml = 'Like what you see? Visit the ' +\n",
              "            '<a target=\"_blank\" href=https://colab.research.google.com/notebooks/data_table.ipynb>data table notebook</a>'\n",
              "            + ' to learn more about interactive tables.';\n",
              "          element.innerHTML = '';\n",
              "          dataTable['output_type'] = 'display_data';\n",
              "          await google.colab.output.renderOutput(dataTable, element);\n",
              "          const docLink = document.createElement('div');\n",
              "          docLink.innerHTML = docLinkHtml;\n",
              "          element.appendChild(docLink);\n",
              "        }\n",
              "      </script>\n",
              "    </div>\n",
              "  </div>\n",
              "  "
            ]
          },
          "metadata": {},
          "execution_count": 18
        }
      ]
    },
    {
      "cell_type": "code",
      "metadata": {
        "colab": {
          "base_uri": "https://localhost:8080/",
          "height": 760
        },
        "id": "_Kj7yxPw_CEn",
        "outputId": "393357f4-c60f-4332-9d05-a449e45b8ad4"
      },
      "source": [
        "#############################\n",
        "# Creating validation dataset\n",
        "#############################\n",
        "df_list = [] \n",
        "classes = os.listdir(Config.VAL_PATH)\n",
        "print(classes)\n",
        "for idx, each_class in enumerate(classes):\n",
        "  #print(idx)\n",
        "  #print(each_class)\n",
        "  images_in_each_class = glob(f'{Config.VAL_PATH}/{each_class}/images/*.png')\n",
        "  #print(images_in_each_class)\n",
        "  df_list += [[each_image, each_class] for each_image in images_in_each_class]\n",
        "\n",
        "print(len(df_list))\n",
        "df = pd.DataFrame(data=df_list, columns=['filename', 'class'])\n",
        "print(df.shape)\n",
        "# Using only those classes in the dataset which are used in the training\n",
        "df = df[df['class'].isin(train_classes_used)]\n",
        "print(df.shape)\n",
        "\n",
        "X, y = df['filename'], df['class']\n",
        "sss = StratifiedShuffleSplit(n_splits=5, train_size=0.2, random_state=0)\n",
        "sss.get_n_splits(X, y)\n",
        "\n",
        "print(sss)\n",
        "print(X)\n",
        "print(y)\n",
        "\n",
        "for train_index, test_index in sss.split(X, y):\n",
        "    print(\"TRAIN:\", len(train_index), \"TEST:\", len(test_index))\n",
        "    stratified1000val = train_index\n",
        "    break\n",
        "\n",
        "df_val = df.iloc[stratified1000val].reset_index(drop=True)\n",
        "df_val['filename'] = '' + df_val['filename']\n",
        "df_val[['filename', 'class']].head()"
      ],
      "execution_count": 19,
      "outputs": [
        {
          "output_type": "stream",
          "name": "stdout",
          "text": [
            "['Lung_Opacity', 'Viral Pneumonia', 'Normal', 'COVID']\n",
            "21225\n",
            "(21225, 2)\n",
            "(21225, 2)\n",
            "StratifiedShuffleSplit(n_splits=5, random_state=0, test_size=None,\n",
            "            train_size=0.2)\n",
            "0        COVID/Lung_Opacity/images/Lung_Opacity-5856.png\n",
            "1        COVID/Lung_Opacity/images/Lung_Opacity-5855.png\n",
            "2          COVID/Lung_Opacity/images/Lung_Opacity-55.png\n",
            "3        COVID/Lung_Opacity/images/Lung_Opacity-5927.png\n",
            "4        COVID/Lung_Opacity/images/Lung_Opacity-5828.png\n",
            "                              ...                       \n",
            "21220                  COVID/COVID/images/COVID-1812.png\n",
            "21221                  COVID/COVID/images/COVID-1690.png\n",
            "21222                  COVID/COVID/images/COVID-1507.png\n",
            "21223                  COVID/COVID/images/COVID-1722.png\n",
            "21224                  COVID/COVID/images/COVID-1475.png\n",
            "Name: filename, Length: 21225, dtype: object\n",
            "0        Lung_Opacity\n",
            "1        Lung_Opacity\n",
            "2        Lung_Opacity\n",
            "3        Lung_Opacity\n",
            "4        Lung_Opacity\n",
            "             ...     \n",
            "21220           COVID\n",
            "21221           COVID\n",
            "21222           COVID\n",
            "21223           COVID\n",
            "21224           COVID\n",
            "Name: class, Length: 21225, dtype: object\n",
            "TRAIN: 4245 TEST: 16980\n"
          ]
        },
        {
          "output_type": "execute_result",
          "data": {
            "text/plain": [
              "                                            filename            class\n",
              "0  COVID/Viral Pneumonia/images/Viral Pneumonia-1...  Viral Pneumonia\n",
              "1    COVID/Lung_Opacity/images/Lung_Opacity-3467.png     Lung_Opacity\n",
              "2    COVID/Lung_Opacity/images/Lung_Opacity-4349.png     Lung_Opacity\n",
              "3                  COVID/COVID/images/COVID-2840.png            COVID\n",
              "4                  COVID/COVID/images/COVID-1927.png            COVID"
            ],
            "text/html": [
              "\n",
              "  <div id=\"df-b9d6fa6a-90c5-421d-8715-563fe3191b6c\">\n",
              "    <div class=\"colab-df-container\">\n",
              "      <div>\n",
              "<style scoped>\n",
              "    .dataframe tbody tr th:only-of-type {\n",
              "        vertical-align: middle;\n",
              "    }\n",
              "\n",
              "    .dataframe tbody tr th {\n",
              "        vertical-align: top;\n",
              "    }\n",
              "\n",
              "    .dataframe thead th {\n",
              "        text-align: right;\n",
              "    }\n",
              "</style>\n",
              "<table border=\"1\" class=\"dataframe\">\n",
              "  <thead>\n",
              "    <tr style=\"text-align: right;\">\n",
              "      <th></th>\n",
              "      <th>filename</th>\n",
              "      <th>class</th>\n",
              "    </tr>\n",
              "  </thead>\n",
              "  <tbody>\n",
              "    <tr>\n",
              "      <th>0</th>\n",
              "      <td>COVID/Viral Pneumonia/images/Viral Pneumonia-1...</td>\n",
              "      <td>Viral Pneumonia</td>\n",
              "    </tr>\n",
              "    <tr>\n",
              "      <th>1</th>\n",
              "      <td>COVID/Lung_Opacity/images/Lung_Opacity-3467.png</td>\n",
              "      <td>Lung_Opacity</td>\n",
              "    </tr>\n",
              "    <tr>\n",
              "      <th>2</th>\n",
              "      <td>COVID/Lung_Opacity/images/Lung_Opacity-4349.png</td>\n",
              "      <td>Lung_Opacity</td>\n",
              "    </tr>\n",
              "    <tr>\n",
              "      <th>3</th>\n",
              "      <td>COVID/COVID/images/COVID-2840.png</td>\n",
              "      <td>COVID</td>\n",
              "    </tr>\n",
              "    <tr>\n",
              "      <th>4</th>\n",
              "      <td>COVID/COVID/images/COVID-1927.png</td>\n",
              "      <td>COVID</td>\n",
              "    </tr>\n",
              "  </tbody>\n",
              "</table>\n",
              "</div>\n",
              "      <button class=\"colab-df-convert\" onclick=\"convertToInteractive('df-b9d6fa6a-90c5-421d-8715-563fe3191b6c')\"\n",
              "              title=\"Convert this dataframe to an interactive table.\"\n",
              "              style=\"display:none;\">\n",
              "        \n",
              "  <svg xmlns=\"http://www.w3.org/2000/svg\" height=\"24px\"viewBox=\"0 0 24 24\"\n",
              "       width=\"24px\">\n",
              "    <path d=\"M0 0h24v24H0V0z\" fill=\"none\"/>\n",
              "    <path d=\"M18.56 5.44l.94 2.06.94-2.06 2.06-.94-2.06-.94-.94-2.06-.94 2.06-2.06.94zm-11 1L8.5 8.5l.94-2.06 2.06-.94-2.06-.94L8.5 2.5l-.94 2.06-2.06.94zm10 10l.94 2.06.94-2.06 2.06-.94-2.06-.94-.94-2.06-.94 2.06-2.06.94z\"/><path d=\"M17.41 7.96l-1.37-1.37c-.4-.4-.92-.59-1.43-.59-.52 0-1.04.2-1.43.59L10.3 9.45l-7.72 7.72c-.78.78-.78 2.05 0 2.83L4 21.41c.39.39.9.59 1.41.59.51 0 1.02-.2 1.41-.59l7.78-7.78 2.81-2.81c.8-.78.8-2.07 0-2.86zM5.41 20L4 18.59l7.72-7.72 1.47 1.35L5.41 20z\"/>\n",
              "  </svg>\n",
              "      </button>\n",
              "      \n",
              "  <style>\n",
              "    .colab-df-container {\n",
              "      display:flex;\n",
              "      flex-wrap:wrap;\n",
              "      gap: 12px;\n",
              "    }\n",
              "\n",
              "    .colab-df-convert {\n",
              "      background-color: #E8F0FE;\n",
              "      border: none;\n",
              "      border-radius: 50%;\n",
              "      cursor: pointer;\n",
              "      display: none;\n",
              "      fill: #1967D2;\n",
              "      height: 32px;\n",
              "      padding: 0 0 0 0;\n",
              "      width: 32px;\n",
              "    }\n",
              "\n",
              "    .colab-df-convert:hover {\n",
              "      background-color: #E2EBFA;\n",
              "      box-shadow: 0px 1px 2px rgba(60, 64, 67, 0.3), 0px 1px 3px 1px rgba(60, 64, 67, 0.15);\n",
              "      fill: #174EA6;\n",
              "    }\n",
              "\n",
              "    [theme=dark] .colab-df-convert {\n",
              "      background-color: #3B4455;\n",
              "      fill: #D2E3FC;\n",
              "    }\n",
              "\n",
              "    [theme=dark] .colab-df-convert:hover {\n",
              "      background-color: #434B5C;\n",
              "      box-shadow: 0px 1px 3px 1px rgba(0, 0, 0, 0.15);\n",
              "      filter: drop-shadow(0px 1px 2px rgba(0, 0, 0, 0.3));\n",
              "      fill: #FFFFFF;\n",
              "    }\n",
              "  </style>\n",
              "\n",
              "      <script>\n",
              "        const buttonEl =\n",
              "          document.querySelector('#df-b9d6fa6a-90c5-421d-8715-563fe3191b6c button.colab-df-convert');\n",
              "        buttonEl.style.display =\n",
              "          google.colab.kernel.accessAllowed ? 'block' : 'none';\n",
              "\n",
              "        async function convertToInteractive(key) {\n",
              "          const element = document.querySelector('#df-b9d6fa6a-90c5-421d-8715-563fe3191b6c');\n",
              "          const dataTable =\n",
              "            await google.colab.kernel.invokeFunction('convertToInteractive',\n",
              "                                                     [key], {});\n",
              "          if (!dataTable) return;\n",
              "\n",
              "          const docLinkHtml = 'Like what you see? Visit the ' +\n",
              "            '<a target=\"_blank\" href=https://colab.research.google.com/notebooks/data_table.ipynb>data table notebook</a>'\n",
              "            + ' to learn more about interactive tables.';\n",
              "          element.innerHTML = '';\n",
              "          dataTable['output_type'] = 'display_data';\n",
              "          await google.colab.output.renderOutput(dataTable, element);\n",
              "          const docLink = document.createElement('div');\n",
              "          docLink.innerHTML = docLinkHtml;\n",
              "          element.appendChild(docLink);\n",
              "        }\n",
              "      </script>\n",
              "    </div>\n",
              "  </div>\n",
              "  "
            ]
          },
          "metadata": {},
          "execution_count": 19
        }
      ]
    },
    {
      "cell_type": "code",
      "metadata": {
        "id": "CUexnTT7EUbk"
      },
      "source": [
        "class MyDataset(Dataset):\n",
        "  def __init__(self, patch_dim, gap, df, validate, transform=None):\n",
        "    self.patch_dim, self.gap = patch_dim, gap\n",
        "    self.transform = transform\n",
        "\n",
        "    if validate:\n",
        "      self.train_data = df.values\n",
        "    else:\n",
        "      self.train_data = df.values\n",
        "  \n",
        "  def get_patch_from_grid(self, image, patch_dim, gap):\n",
        "    image = np.array(image)\n",
        "\n",
        "    offset_x, offset_y = image.shape[0] - (patch_dim*3 + gap*2), image.shape[1] - (patch_dim*3 + gap*2)\n",
        "    start_grid_x, start_grid_y = np.random.randint(0, offset_x), np.random.randint(0, offset_y)\n",
        "    patch_loc_arr = [(1, 1), (1, 2), (1, 3), (2, 1), (2, 3), (3, 1), (3, 2), (3, 3)]\n",
        "    loc = np.random.randint(len(patch_loc_arr))\n",
        "    tempx, tempy = patch_loc_arr[loc]\n",
        "    \n",
        "    patch_x_pt = start_grid_x + patch_dim * (tempx-1) + gap * (tempx-1)\n",
        "    patch_y_pt = start_grid_y + patch_dim * (tempy-1) + gap * (tempy-1)\n",
        "    random_patch = image[patch_x_pt:patch_x_pt+patch_dim, patch_y_pt:patch_y_pt+patch_dim]\n",
        "\n",
        "    patch_x_pt = start_grid_x + patch_dim * (2-1) + gap * (2-1)\n",
        "    patch_y_pt = start_grid_y + patch_dim * (2-1) + gap * (2-1)\n",
        "    uniform_patch = image[patch_x_pt:patch_x_pt+patch_dim, patch_y_pt:patch_y_pt+patch_dim]\n",
        "    \n",
        "    random_patch_label = loc\n",
        "    \n",
        "    return uniform_patch, random_patch, random_patch_label\n",
        "\n",
        "  def __len__(self):\n",
        "    return len(self.train_data)\n",
        "  \n",
        "  def __getitem__(self, index):\n",
        "    image = Image.open(self.train_data[index]).convert('RGB')\n",
        "    uniform_patch, random_patch, random_patch_label = self.get_patch_from_grid(image, \n",
        "                                                                               self.patch_dim, \n",
        "                                                                               self.gap)\n",
        "    if uniform_patch.shape[0] != 96:\n",
        "        uniform_patch = skimage.transform.resize(uniform_patch, (96, 96))\n",
        "        random_patch = skimage.transform.resize(random_patch, (96, 96))\n",
        "        \n",
        "        uniform_patch = img_as_float32(uniform_patch)\n",
        "        random_patch = img_as_float32(random_patch)\n",
        "\n",
        "    # Dropped color channels 2 and 3 and replaced with gaussian noise(std ~1/100 of the std of the remaining channel)\n",
        "    #uniform_patch[:, :, 1] = np.random.normal(0.485, 0.01 * np.std(uniform_patch[:, :, 0]), (uniform_patch.shape[0],uniform_patch.shape[1]))\n",
        "    #uniform_patch[:, :, 2] = np.random.normal(0.485, 0.01 * np.std(uniform_patch[:, :, 0]), (uniform_patch.shape[0],uniform_patch.shape[1]))\n",
        "    #random_patch[:, :, 1] = np.random.normal(0.485, 0.01 * np.std(random_patch[:, :, 0]), (random_patch.shape[0],random_patch.shape[1]))\n",
        "    #random_patch[:, :, 2] = np.random.normal(0.485, 0.01 * np.std(random_patch[:, :, 0]), (random_patch.shape[0],random_patch.shape[1]))\n",
        "\n",
        "    random_patch_label = np.array(random_patch_label).astype(np.int64)\n",
        "        \n",
        "    if self.transform:\n",
        "      uniform_patch = self.transform(uniform_patch)\n",
        "      random_patch = self.transform(random_patch)\n",
        "\n",
        "    return uniform_patch, random_patch, random_patch_label\n",
        "\n",
        "\n",
        "\n",
        "##################################################\n",
        "# Creating Train/Validation dataset and dataloader\n",
        "##################################################\n",
        "\n",
        "traindataset = MyDataset(Config.patch_dim, Config.gap, df_trn['filename'], False,\n",
        "                         transforms.Compose([transforms.ToTensor(),\n",
        "                                             ]))\n",
        "trainloader = torch.utils.data.DataLoader(traindataset, \n",
        "                                          batch_size=Config.batch_size,\n",
        "                                          shuffle=True,\n",
        "                                          # num_workers=Config.num_workers\n",
        "                                          )\n",
        "\n",
        "\n",
        "valdataset = MyDataset(Config.patch_dim, Config.gap, df_val['filename'], True,\n",
        "                         transforms.Compose([transforms.ToTensor(),\n",
        "                                             ]))\n",
        "valloader = torch.utils.data.DataLoader(valdataset,\n",
        "                                        batch_size=Config.batch_size,\n",
        "                                        shuffle=False)"
      ],
      "execution_count": 20,
      "outputs": []
    },
    {
      "cell_type": "code",
      "metadata": {
        "colab": {
          "base_uri": "https://localhost:8080/",
          "height": 610
        },
        "id": "8EUQ3wyCGe8y",
        "outputId": "464df4b7-fe61-4de0-c7e6-6197eaa5bd9b"
      },
      "source": [
        "##############################\n",
        "# Visualizing training dataset\n",
        "##############################\n",
        "\n",
        "example_batch = next(iter(trainloader))\n",
        "concatenated = torch.cat((unorm(example_batch[0]),unorm(example_batch[1])),0)\n",
        "imshow(torchvision.utils.make_grid(concatenated))\n",
        "print(f'Labels: {example_batch[2].numpy()}')"
      ],
      "execution_count": 21,
      "outputs": [
        {
          "output_type": "display_data",
          "data": {
            "text/plain": [
              "<Figure size 720x720 with 1 Axes>"
            ],
            "image/png": "[encoded data removed]"
          },
          "metadata": {
            "needs_background": "light"
          }
        },
        {
          "output_type": "stream",
          "name": "stdout",
          "text": [
            "Labels: [3 2 6 0 6 3 2 6 5 1 4 7 3 7 3 6 3 4 5 5 1 1 6 7 6 4 7 6 1 6 6 2 3 5 0 0 1\n",
            " 0 1 4 0 6 4 3 3 1 5 1 5 4 4 3 7 4 2 3 6 1 1 1 4 5 6 3]\n"
          ]
        }
      ]
    },
    {
      "cell_type": "code",
      "metadata": {
        "colab": {
          "base_uri": "https://localhost:8080/",
          "height": 610
        },
        "id": "H9JMy2O6GkeA",
        "outputId": "0ddd94f7-bd6d-41f4-f325-7dbfbfe42d45"
      },
      "source": [
        "##############################\n",
        "# Visualizing validation dataset\n",
        "##############################\n",
        "\n",
        "example_batch_val = next(iter(valloader))\n",
        "concatenated = torch.cat((unorm(example_batch_val[0]),unorm(example_batch_val[1])),0)\n",
        "imshow(torchvision.utils.make_grid(concatenated))\n",
        "print(f'Labels: {example_batch_val[2].numpy()}')"
      ],
      "execution_count": 22,
      "outputs": [
        {
          "output_type": "display_data",
          "data": {
            "text/plain": [
              "<Figure size 720x720 with 1 Axes>"
            ],
            "image/png": "[encoded data removed]"
          },
          "metadata": {
            "needs_background": "light"
          }
        },
        {
          "output_type": "stream",
          "name": "stdout",
          "text": [
            "Labels: [2 6 0 0 4 0 5 5 6 4 0 5 5 1 1 0 0 1 5 1 6 6 5 5 4 2 3 1 1 1 6 7 7 3 2 4 3\n",
            " 6 1 2 6 7 7 4 3 0 0 3 4 3 6 1 5 6 5 1 3 1 3 3 7 2 1 6]\n"
          ]
        }
      ]
    },
    {
      "cell_type": "code",
      "metadata": {
        "id": "KOf5X4ljHVBU"
      },
      "source": [
        "class AlexNetwork(nn.Module):\n",
        "  def __init__(self,aux_logits = False):\n",
        "      super(AlexNetwork, self).__init__()\n",
        "      self.cnn = nn.Sequential(\n",
        "        nn.Conv2d(3, 96, kernel_size=11, stride=4),\n",
        "        nn.ReLU(inplace=True),\n",
        "        nn.MaxPool2d(kernel_size=3, stride=2),\n",
        "        nn.LocalResponseNorm(96),\n",
        "        \n",
        "        nn.Conv2d(96, 384, kernel_size=5, stride = 2,padding = 2),\n",
        "        nn.ReLU(inplace=True),\n",
        "        nn.MaxPool2d(kernel_size=3, stride=2),\n",
        "        nn.LocalResponseNorm(384),\n",
        "        \n",
        "        nn.Conv2d(384, 384, kernel_size=3, stride=1,padding = 1),\n",
        "        nn.ReLU(inplace=True),\n",
        "        nn.BatchNorm2d(384),\n",
        "        \n",
        "        nn.Conv2d(384, 384, kernel_size=3, stride=1,padding = 1),\n",
        "        nn.ReLU(inplace=True),\n",
        "        nn.BatchNorm2d(384),\n",
        "        \n",
        "        nn.Conv2d(384, 256, kernel_size=3, stride=1,padding = 1),\n",
        "        nn.ReLU(inplace=True),\n",
        "        nn.BatchNorm2d(256),\n",
        "        nn.MaxPool2d(kernel_size=3, stride=2,padding = 1),\n",
        "      )\n",
        "      self.fc6 = nn.Sequential(\n",
        "        nn.Linear(256,4096),\n",
        "        nn.ReLU(inplace=True),\n",
        "        nn.BatchNorm1d(4096),\n",
        "      )\n",
        "      self.fc = nn.Sequential(\n",
        "        nn.Linear(2*4096,4096),\n",
        "        nn.ReLU(inplace=True),\n",
        "\n",
        "        nn.Linear(4096, 4096),\n",
        "        nn.ReLU(inplace=True),\n",
        "\n",
        "        nn.Linear(4096, 8)\n",
        "      )\n",
        "\n",
        "  def forward_once(self, x):\n",
        "    output= self.cnn(x)\n",
        "    output = output.view(output.size()[0], -1)\n",
        "    output = self.fc6(output)\n",
        "    return output\n",
        "\n",
        "\n",
        "  def forward(self, uniform_patch, random_patch):\n",
        "    output_fc6_uniform = self.forward_once(uniform_patch)\n",
        "    output_fc6_random = self.forward_once(random_patch)\n",
        "    output = torch.cat((output_fc6_uniform,output_fc6_random), 1)\n",
        "    output = self.fc(output)\n",
        "    return output, output_fc6_uniform, output_fc6_random\n",
        "\n",
        "model = AlexNetwork().to(device)"
      ],
      "execution_count": 23,
      "outputs": []
    },
    {
      "cell_type": "code",
      "metadata": {
        "id": "LMj-obWvLfZZ"
      },
      "source": [
        "#############################################\n",
        "# Initialized Optimizer, criterion, scheduler\n",
        "#############################################\n",
        "\n",
        "if torch.cuda.is_available():\n",
        "    model.cuda()\n",
        "optimizer = optim.Adam(model.parameters(), lr=Config.lr)\n",
        "criterion = nn.CrossEntropyLoss()\n",
        "scheduler = torch.optim.lr_scheduler.ReduceLROnPlateau(optimizer, \n",
        "                                           mode='min',\n",
        "                                           patience=5,\n",
        "                                           factor=0.3, verbose=True)"
      ],
      "execution_count": 24,
      "outputs": []
    },
    {
      "cell_type": "code",
      "metadata": {
        "colab": {
          "base_uri": "https://localhost:8080/"
        },
        "id": "j9UH648UMh4J",
        "outputId": "5ea6d6d6-c2bd-4d08-e719-0431834aeef3"
      },
      "source": [
        "############################\n",
        "# Training/Validation Engine\n",
        "############################\n",
        "\n",
        "global_trn_loss = []\n",
        "global_val_loss = []\n",
        "# previous_val_loss = 100\n",
        "\n",
        "for epoch in range(Config.num_epochs):\n",
        "    train_running_loss = []\n",
        "    val_running_loss = []\n",
        "    start_time = time.time()\n",
        "    model.train()\n",
        "    for idx, data in tqdm(enumerate(trainloader), total=int(len(traindataset)/Config.batch_size)):\n",
        "        uniform_patch, random_patch, random_patch_label = data[0].to(device), data[1].to(device), data[2].to(device)\n",
        "        optimizer.zero_grad()\n",
        "        output, output_fc6_uniform, output_fc6_random = model(uniform_patch, random_patch)\n",
        "        loss = criterion(output, random_patch_label)\n",
        "        loss.backward()\n",
        "        optimizer.step()\n",
        "        \n",
        "        train_running_loss.append(loss.item())\n",
        "    else:\n",
        "      correct = 0\n",
        "      total = 0\n",
        "      model.eval()\n",
        "      with torch.no_grad():\n",
        "        for idx, data in tqdm(enumerate(valloader), total=int(len(valdataset)/Config.batch_size)):\n",
        "          uniform_patch, random_patch, random_patch_label = data[0].to(device), data[1].to(device), data[2].to(device)\n",
        "          output, output_fc6_uniform, output_fc6_random = model(uniform_patch, random_patch)\n",
        "          loss = criterion(output, random_patch_label)\n",
        "          val_running_loss.append(loss.item())\n",
        "        \n",
        "          _, predicted = torch.max(output.data, 1)\n",
        "          total += random_patch_label.size(0)\n",
        "          correct += (predicted == random_patch_label).sum()\n",
        "        print('Val Progress --- total:{}, correct:{}'.format(total, correct.item()))\n",
        "        print('Val Accuracy of the network on the 10000 test images: {}%'.format(100 * correct / total))\n",
        "\n",
        "    global_trn_loss.append(sum(train_running_loss) / len(train_running_loss))\n",
        "    global_val_loss.append(sum(val_running_loss) / len(val_running_loss))\n",
        "\n",
        "    scheduler.step(global_val_loss[-1])\n",
        "\n",
        "    print('Epoch [{}/{}], TRNLoss:{:.4f}, VALLoss:{:.4f}, Time:{:.2f}'.format(\n",
        "        epoch + 1, Config.num_epochs, global_trn_loss[-1], global_val_loss[-1],\n",
        "        (time.time() - start_time) / 60))\n",
        "    \n",
        "    if epoch % 5 == 0:\n",
        "      MODEL_SAVE_PATH = f'/content/drive/My Drive/{Config.batch_size}_{Config.num_epochs}_{Config.lr}_{Config.subset_data}_{Config.patch_dim}_{Config.gap}.pt'\n",
        "      torch.save(\n",
        "        {\n",
        "            'epoch': Config.num_epochs,\n",
        "            'model_state_dict': model.state_dict(),\n",
        "            'optimizer_state_dict': optimizer.state_dict(),\n",
        "            'loss': loss,\n",
        "            'global_trnloss': global_trn_loss,\n",
        "            'global_valloss': global_val_loss\n",
        "        }, MODEL_SAVE_PATH)\n",
        "      #drive.mount('/content/drive', force_remount=True)"
      ],
      "execution_count": 25,
      "outputs": [
        {
          "output_type": "stream",
          "name": "stderr",
          "text": [
            "16it [03:23, 12.70s/it]\n",
            "67it [11:14, 10.07s/it]\n"
          ]
        },
        {
          "output_type": "stream",
          "name": "stdout",
          "text": [
            "Val Progress --- total:4245, correct:530\n",
            "Val Accuracy of the network on the 10000 test images: 12.48527717590332%\n",
            "Epoch [1/50], TRNLoss:15588.8394, VALLoss:131727.4887, Time:14.64\n"
          ]
        },
        {
          "output_type": "stream",
          "name": "stderr",
          "text": [
            "16it [00:18,  1.17s/it]\n",
            "67it [00:54,  1.22it/s]\n"
          ]
        },
        {
          "output_type": "stream",
          "name": "stdout",
          "text": [
            "Val Progress --- total:4245, correct:511\n",
            "Val Accuracy of the network on the 10000 test images: 12.037692070007324%\n",
            "Epoch [2/50], TRNLoss:2.1365, VALLoss:531.5967, Time:1.23\n"
          ]
        },
        {
          "output_type": "stream",
          "name": "stderr",
          "text": [
            "16it [00:15,  1.01it/s]\n",
            "67it [00:54,  1.23it/s]\n"
          ]
        },
        {
          "output_type": "stream",
          "name": "stdout",
          "text": [
            "Val Progress --- total:4245, correct:542\n",
            "Val Accuracy of the network on the 10000 test images: 12.767962455749512%\n",
            "Epoch [3/50], TRNLoss:2.1480, VALLoss:2.1005, Time:1.18\n"
          ]
        },
        {
          "output_type": "stream",
          "name": "stderr",
          "text": [
            "16it [00:15,  1.00it/s]\n",
            "67it [00:54,  1.24it/s]\n"
          ]
        },
        {
          "output_type": "stream",
          "name": "stdout",
          "text": [
            "Val Progress --- total:4245, correct:518\n",
            "Val Accuracy of the network on the 10000 test images: 12.202591896057129%\n",
            "Epoch [4/50], TRNLoss:2.1233, VALLoss:1360.3115, Time:1.17\n"
          ]
        },
        {
          "output_type": "stream",
          "name": "stderr",
          "text": [
            "16it [00:15,  1.02it/s]\n",
            "67it [00:54,  1.22it/s]\n"
          ]
        },
        {
          "output_type": "stream",
          "name": "stdout",
          "text": [
            "Val Progress --- total:4245, correct:558\n",
            "Val Accuracy of the network on the 10000 test images: 13.144876480102539%\n",
            "Epoch [5/50], TRNLoss:2.1230, VALLoss:44870896.4759, Time:1.18\n"
          ]
        },
        {
          "output_type": "stream",
          "name": "stderr",
          "text": [
            "16it [00:15,  1.01it/s]\n",
            "67it [00:54,  1.22it/s]\n"
          ]
        },
        {
          "output_type": "stream",
          "name": "stdout",
          "text": [
            "Val Progress --- total:4245, correct:577\n",
            "Val Accuracy of the network on the 10000 test images: 13.592461585998535%\n",
            "Epoch [6/50], TRNLoss:2.1356, VALLoss:3887603338.8952, Time:1.18\n"
          ]
        },
        {
          "output_type": "stream",
          "name": "stderr",
          "text": [
            "16it [00:19,  1.21s/it]\n",
            "67it [00:55,  1.21it/s]\n"
          ]
        },
        {
          "output_type": "stream",
          "name": "stdout",
          "text": [
            "Val Progress --- total:4245, correct:528\n",
            "Val Accuracy of the network on the 10000 test images: 12.438162803649902%\n",
            "Epoch [7/50], TRNLoss:2.1146, VALLoss:148033627.6008, Time:1.24\n"
          ]
        },
        {
          "output_type": "stream",
          "name": "stderr",
          "text": [
            "16it [00:15,  1.01it/s]\n",
            "67it [00:54,  1.22it/s]\n"
          ]
        },
        {
          "output_type": "stream",
          "name": "stdout",
          "text": [
            "Val Progress --- total:4245, correct:541\n",
            "Val Accuracy of the network on the 10000 test images: 12.744405746459961%\n",
            "Epoch [8/50], TRNLoss:2.1094, VALLoss:76463050.9212, Time:1.18\n"
          ]
        },
        {
          "output_type": "stream",
          "name": "stderr",
          "text": [
            "16it [00:16,  1.00s/it]\n",
            "67it [00:55,  1.21it/s]\n"
          ]
        },
        {
          "output_type": "stream",
          "name": "stdout",
          "text": [
            "Val Progress --- total:4245, correct:527\n",
            "Val Accuracy of the network on the 10000 test images: 12.414605140686035%\n",
            "Epoch     9: reducing learning rate of group 0 to 1.5000e-02.\n",
            "Epoch [9/50], TRNLoss:2.1182, VALLoss:177156538.8395, Time:1.19\n"
          ]
        },
        {
          "output_type": "stream",
          "name": "stderr",
          "text": [
            "16it [00:16,  1.01s/it]\n",
            "67it [00:55,  1.21it/s]\n"
          ]
        },
        {
          "output_type": "stream",
          "name": "stdout",
          "text": [
            "Val Progress --- total:4245, correct:559\n",
            "Val Accuracy of the network on the 10000 test images: 13.16843318939209%\n",
            "Epoch [10/50], TRNLoss:2.0936, VALLoss:337961146.2503, Time:1.20\n"
          ]
        },
        {
          "output_type": "stream",
          "name": "stderr",
          "text": [
            "16it [00:16,  1.02s/it]\n",
            "67it [00:55,  1.20it/s]\n"
          ]
        },
        {
          "output_type": "stream",
          "name": "stdout",
          "text": [
            "Val Progress --- total:4245, correct:533\n",
            "Val Accuracy of the network on the 10000 test images: 12.555948257446289%\n",
            "Epoch [11/50], TRNLoss:2.0898, VALLoss:5366385.0382, Time:1.20\n"
          ]
        },
        {
          "output_type": "stream",
          "name": "stderr",
          "text": [
            "16it [00:18,  1.18s/it]\n",
            "67it [00:55,  1.20it/s]\n"
          ]
        },
        {
          "output_type": "stream",
          "name": "stdout",
          "text": [
            "Val Progress --- total:4245, correct:493\n",
            "Val Accuracy of the network on the 10000 test images: 11.613663673400879%\n",
            "Epoch [12/50], TRNLoss:2.0947, VALLoss:58454937.9302, Time:1.24\n"
          ]
        },
        {
          "output_type": "stream",
          "name": "stderr",
          "text": [
            "16it [00:16,  1.02s/it]\n",
            "67it [00:55,  1.20it/s]\n"
          ]
        },
        {
          "output_type": "stream",
          "name": "stdout",
          "text": [
            "Val Progress --- total:4245, correct:551\n",
            "Val Accuracy of the network on the 10000 test images: 12.979976654052734%\n",
            "Epoch [13/50], TRNLoss:2.0881, VALLoss:1999619216.1374, Time:1.20\n"
          ]
        },
        {
          "output_type": "stream",
          "name": "stderr",
          "text": [
            "16it [00:15,  1.00it/s]\n",
            "67it [00:56,  1.19it/s]\n"
          ]
        },
        {
          "output_type": "stream",
          "name": "stdout",
          "text": [
            "Val Progress --- total:4245, correct:579\n",
            "Val Accuracy of the network on the 10000 test images: 13.639575958251953%\n",
            "Epoch [14/50], TRNLoss:2.0835, VALLoss:117274024.8353, Time:1.20\n"
          ]
        },
        {
          "output_type": "stream",
          "name": "stderr",
          "text": [
            "16it [00:16,  1.02s/it]\n",
            "67it [00:55,  1.20it/s]\n"
          ]
        },
        {
          "output_type": "stream",
          "name": "stdout",
          "text": [
            "Val Progress --- total:4245, correct:550\n",
            "Val Accuracy of the network on the 10000 test images: 12.956419944763184%\n",
            "Epoch    15: reducing learning rate of group 0 to 4.5000e-03.\n",
            "Epoch [15/50], TRNLoss:2.0881, VALLoss:10283478.5880, Time:1.20\n"
          ]
        },
        {
          "output_type": "stream",
          "name": "stderr",
          "text": [
            "16it [00:16,  1.01s/it]\n",
            "67it [00:56,  1.19it/s]\n"
          ]
        },
        {
          "output_type": "stream",
          "name": "stdout",
          "text": [
            "Val Progress --- total:4245, correct:545\n",
            "Val Accuracy of the network on the 10000 test images: 12.83863353729248%\n",
            "Epoch [16/50], TRNLoss:2.0803, VALLoss:80871561.0081, Time:1.21\n"
          ]
        },
        {
          "output_type": "stream",
          "name": "stderr",
          "text": [
            "16it [00:18,  1.18s/it]\n",
            "67it [00:55,  1.20it/s]\n"
          ]
        },
        {
          "output_type": "stream",
          "name": "stdout",
          "text": [
            "Val Progress --- total:4245, correct:533\n",
            "Val Accuracy of the network on the 10000 test images: 12.555948257446289%\n",
            "Epoch [17/50], TRNLoss:2.0824, VALLoss:179180553.6989, Time:1.25\n"
          ]
        },
        {
          "output_type": "stream",
          "name": "stderr",
          "text": [
            "16it [00:16,  1.02s/it]\n",
            "67it [00:55,  1.20it/s]\n"
          ]
        },
        {
          "output_type": "stream",
          "name": "stdout",
          "text": [
            "Val Progress --- total:4245, correct:561\n",
            "Val Accuracy of the network on the 10000 test images: 13.215547561645508%\n",
            "Epoch [18/50], TRNLoss:2.0822, VALLoss:1232584324.6287, Time:1.20\n"
          ]
        },
        {
          "output_type": "stream",
          "name": "stderr",
          "text": [
            "16it [00:16,  1.03s/it]\n",
            "67it [00:55,  1.21it/s]\n"
          ]
        },
        {
          "output_type": "stream",
          "name": "stdout",
          "text": [
            "Val Progress --- total:4245, correct:534\n",
            "Val Accuracy of the network on the 10000 test images: 12.579505920410156%\n",
            "Epoch [19/50], TRNLoss:2.0799, VALLoss:1402316767.2705, Time:1.20\n"
          ]
        },
        {
          "output_type": "stream",
          "name": "stderr",
          "text": [
            "16it [00:16,  1.00s/it]\n",
            "67it [00:55,  1.20it/s]\n"
          ]
        },
        {
          "output_type": "stream",
          "name": "stdout",
          "text": [
            "Val Progress --- total:4245, correct:523\n",
            "Val Accuracy of the network on the 10000 test images: 12.320377349853516%\n",
            "Epoch [20/50], TRNLoss:2.0796, VALLoss:180686704.6878, Time:1.20\n"
          ]
        },
        {
          "output_type": "stream",
          "name": "stderr",
          "text": [
            "16it [00:16,  1.01s/it]\n",
            "67it [00:55,  1.21it/s]\n"
          ]
        },
        {
          "output_type": "stream",
          "name": "stdout",
          "text": [
            "Val Progress --- total:4245, correct:536\n",
            "Val Accuracy of the network on the 10000 test images: 12.626619338989258%\n",
            "Epoch    21: reducing learning rate of group 0 to 1.3500e-03.\n",
            "Epoch [21/50], TRNLoss:2.0797, VALLoss:590626056.4918, Time:1.20\n"
          ]
        },
        {
          "output_type": "stream",
          "name": "stderr",
          "text": [
            "16it [00:19,  1.21s/it]\n",
            "67it [00:55,  1.20it/s]\n"
          ]
        },
        {
          "output_type": "stream",
          "name": "stdout",
          "text": [
            "Val Progress --- total:4245, correct:506\n",
            "Val Accuracy of the network on the 10000 test images: 11.919905662536621%\n",
            "Epoch [22/50], TRNLoss:2.0822, VALLoss:713230735.5845, Time:1.25\n"
          ]
        },
        {
          "output_type": "stream",
          "name": "stderr",
          "text": [
            "16it [00:16,  1.02s/it]\n",
            "67it [00:55,  1.20it/s]\n"
          ]
        },
        {
          "output_type": "stream",
          "name": "stdout",
          "text": [
            "Val Progress --- total:4245, correct:546\n",
            "Val Accuracy of the network on the 10000 test images: 12.862191200256348%\n",
            "Epoch [23/50], TRNLoss:2.0825, VALLoss:208135890.3846, Time:1.20\n"
          ]
        },
        {
          "output_type": "stream",
          "name": "stderr",
          "text": [
            "16it [00:16,  1.02s/it]\n",
            "67it [00:59,  1.13it/s]\n"
          ]
        },
        {
          "output_type": "stream",
          "name": "stdout",
          "text": [
            "Val Progress --- total:4245, correct:526\n",
            "Val Accuracy of the network on the 10000 test images: 12.391048431396484%\n",
            "Epoch [24/50], TRNLoss:2.0801, VALLoss:646071894.4519, Time:1.26\n"
          ]
        },
        {
          "output_type": "stream",
          "name": "stderr",
          "text": [
            "16it [00:16,  1.01s/it]\n",
            "67it [00:57,  1.16it/s]\n"
          ]
        },
        {
          "output_type": "stream",
          "name": "stdout",
          "text": [
            "Val Progress --- total:4245, correct:533\n",
            "Val Accuracy of the network on the 10000 test images: 12.555948257446289%\n",
            "Epoch [25/50], TRNLoss:2.0804, VALLoss:158969749.8392, Time:1.24\n"
          ]
        },
        {
          "output_type": "stream",
          "name": "stderr",
          "text": [
            "16it [00:16,  1.03s/it]\n",
            "67it [00:56,  1.19it/s]\n"
          ]
        },
        {
          "output_type": "stream",
          "name": "stdout",
          "text": [
            "Val Progress --- total:4245, correct:536\n",
            "Val Accuracy of the network on the 10000 test images: 12.626619338989258%\n",
            "Epoch [26/50], TRNLoss:2.0816, VALLoss:1812981777.3343, Time:1.21\n"
          ]
        },
        {
          "output_type": "stream",
          "name": "stderr",
          "text": [
            "16it [00:19,  1.19s/it]\n",
            "67it [00:56,  1.20it/s]\n"
          ]
        },
        {
          "output_type": "stream",
          "name": "stdout",
          "text": [
            "Val Progress --- total:4245, correct:521\n",
            "Val Accuracy of the network on the 10000 test images: 12.273262977600098%\n",
            "Epoch    27: reducing learning rate of group 0 to 4.0500e-04.\n",
            "Epoch [27/50], TRNLoss:2.0818, VALLoss:803366721.4310, Time:1.25\n"
          ]
        },
        {
          "output_type": "stream",
          "name": "stderr",
          "text": [
            "16it [00:16,  1.05s/it]\n",
            "67it [00:55,  1.21it/s]\n"
          ]
        },
        {
          "output_type": "stream",
          "name": "stdout",
          "text": [
            "Val Progress --- total:4245, correct:538\n",
            "Val Accuracy of the network on the 10000 test images: 12.673733711242676%\n",
            "Epoch [28/50], TRNLoss:2.5469, VALLoss:5305749075.8718, Time:1.20\n"
          ]
        },
        {
          "output_type": "stream",
          "name": "stderr",
          "text": [
            "16it [00:16,  1.00s/it]\n",
            "67it [00:55,  1.20it/s]\n"
          ]
        },
        {
          "output_type": "stream",
          "name": "stdout",
          "text": [
            "Val Progress --- total:4245, correct:531\n",
            "Val Accuracy of the network on the 10000 test images: 12.508833885192871%\n",
            "Epoch [29/50], TRNLoss:2.0799, VALLoss:72347770.1564, Time:1.20\n"
          ]
        },
        {
          "output_type": "stream",
          "name": "stderr",
          "text": [
            "16it [00:16,  1.01s/it]\n",
            "67it [00:54,  1.23it/s]\n"
          ]
        },
        {
          "output_type": "stream",
          "name": "stdout",
          "text": [
            "Val Progress --- total:4245, correct:548\n",
            "Val Accuracy of the network on the 10000 test images: 12.909305572509766%\n",
            "Epoch [30/50], TRNLoss:2.0800, VALLoss:617912540.8880, Time:1.18\n"
          ]
        },
        {
          "output_type": "stream",
          "name": "stderr",
          "text": [
            "16it [00:15,  1.01it/s]\n",
            "67it [00:55,  1.22it/s]\n"
          ]
        },
        {
          "output_type": "stream",
          "name": "stdout",
          "text": [
            "Val Progress --- total:4245, correct:531\n",
            "Val Accuracy of the network on the 10000 test images: 12.508833885192871%\n",
            "Epoch [31/50], TRNLoss:2.0793, VALLoss:130591753.4785, Time:1.18\n"
          ]
        },
        {
          "output_type": "stream",
          "name": "stderr",
          "text": [
            "16it [00:18,  1.18s/it]\n",
            "67it [00:53,  1.25it/s]\n"
          ]
        },
        {
          "output_type": "stream",
          "name": "stdout",
          "text": [
            "Val Progress --- total:4245, correct:531\n",
            "Val Accuracy of the network on the 10000 test images: 12.508833885192871%\n",
            "Epoch [32/50], TRNLoss:2.0815, VALLoss:51310010.4615, Time:1.21\n"
          ]
        },
        {
          "output_type": "stream",
          "name": "stderr",
          "text": [
            "16it [00:15,  1.01it/s]\n",
            "67it [00:55,  1.20it/s]\n"
          ]
        },
        {
          "output_type": "stream",
          "name": "stdout",
          "text": [
            "Val Progress --- total:4245, correct:532\n",
            "Val Accuracy of the network on the 10000 test images: 12.532391548156738%\n",
            "Epoch    33: reducing learning rate of group 0 to 1.2150e-04.\n",
            "Epoch [33/50], TRNLoss:2.0799, VALLoss:5163494698.0651, Time:1.19\n"
          ]
        },
        {
          "output_type": "stream",
          "name": "stderr",
          "text": [
            "16it [00:16,  1.01s/it]\n",
            "67it [00:54,  1.22it/s]\n"
          ]
        },
        {
          "output_type": "stream",
          "name": "stdout",
          "text": [
            "Val Progress --- total:4245, correct:540\n",
            "Val Accuracy of the network on the 10000 test images: 12.720848083496094%\n",
            "Epoch [34/50], TRNLoss:2.0794, VALLoss:1622758412.9778, Time:1.19\n"
          ]
        },
        {
          "output_type": "stream",
          "name": "stderr",
          "text": [
            "16it [00:16,  1.01s/it]\n",
            "67it [00:55,  1.20it/s]\n"
          ]
        },
        {
          "output_type": "stream",
          "name": "stdout",
          "text": [
            "Val Progress --- total:4245, correct:529\n",
            "Val Accuracy of the network on the 10000 test images: 12.461719512939453%\n",
            "Epoch [35/50], TRNLoss:2.0799, VALLoss:165242004.2779, Time:1.20\n"
          ]
        },
        {
          "output_type": "stream",
          "name": "stderr",
          "text": [
            "16it [00:16,  1.02s/it]\n",
            "67it [00:55,  1.21it/s]\n"
          ]
        },
        {
          "output_type": "stream",
          "name": "stdout",
          "text": [
            "Val Progress --- total:4245, correct:533\n",
            "Val Accuracy of the network on the 10000 test images: 12.555948257446289%\n",
            "Epoch [36/50], TRNLoss:2.0795, VALLoss:2824258111.1757, Time:1.20\n"
          ]
        },
        {
          "output_type": "stream",
          "name": "stderr",
          "text": [
            "16it [00:19,  1.24s/it]\n",
            "67it [00:55,  1.20it/s]\n"
          ]
        },
        {
          "output_type": "stream",
          "name": "stdout",
          "text": [
            "Val Progress --- total:4245, correct:517\n",
            "Val Accuracy of the network on the 10000 test images: 12.179034233093262%\n",
            "Epoch [37/50], TRNLoss:2.0797, VALLoss:309032530.0342, Time:1.26\n"
          ]
        },
        {
          "output_type": "stream",
          "name": "stderr",
          "text": [
            "16it [00:16,  1.00s/it]\n",
            "67it [00:54,  1.22it/s]\n"
          ]
        },
        {
          "output_type": "stream",
          "name": "stdout",
          "text": [
            "Val Progress --- total:4245, correct:537\n",
            "Val Accuracy of the network on the 10000 test images: 12.650177001953125%\n",
            "Epoch [38/50], TRNLoss:2.0795, VALLoss:5562551.3349, Time:1.18\n"
          ]
        },
        {
          "output_type": "stream",
          "name": "stderr",
          "text": [
            "16it [00:16,  1.00s/it]\n",
            "67it [00:55,  1.20it/s]\n"
          ]
        },
        {
          "output_type": "stream",
          "name": "stdout",
          "text": [
            "Val Progress --- total:4245, correct:534\n",
            "Val Accuracy of the network on the 10000 test images: 12.579505920410156%\n",
            "Epoch    39: reducing learning rate of group 0 to 3.6450e-05.\n",
            "Epoch [39/50], TRNLoss:2.0792, VALLoss:308958030.2366, Time:1.20\n"
          ]
        },
        {
          "output_type": "stream",
          "name": "stderr",
          "text": [
            "16it [00:15,  1.00it/s]\n",
            "67it [00:55,  1.21it/s]\n"
          ]
        },
        {
          "output_type": "stream",
          "name": "stdout",
          "text": [
            "Val Progress --- total:4245, correct:544\n",
            "Val Accuracy of the network on the 10000 test images: 12.81507682800293%\n",
            "Epoch [40/50], TRNLoss:2.0794, VALLoss:455398701.2809, Time:1.19\n"
          ]
        },
        {
          "output_type": "stream",
          "name": "stderr",
          "text": [
            "16it [00:16,  1.01s/it]\n",
            "67it [00:55,  1.21it/s]\n"
          ]
        },
        {
          "output_type": "stream",
          "name": "stdout",
          "text": [
            "Val Progress --- total:4245, correct:499\n",
            "Val Accuracy of the network on the 10000 test images: 11.755005836486816%\n",
            "Epoch [41/50], TRNLoss:2.0791, VALLoss:14575208.6297, Time:1.19\n"
          ]
        },
        {
          "output_type": "stream",
          "name": "stderr",
          "text": [
            "16it [00:18,  1.16s/it]\n",
            "67it [00:55,  1.20it/s]\n"
          ]
        },
        {
          "output_type": "stream",
          "name": "stdout",
          "text": [
            "Val Progress --- total:4245, correct:527\n",
            "Val Accuracy of the network on the 10000 test images: 12.414605140686035%\n",
            "Epoch [42/50], TRNLoss:2.0793, VALLoss:1251359012.7656, Time:1.24\n"
          ]
        },
        {
          "output_type": "stream",
          "name": "stderr",
          "text": [
            "16it [00:16,  1.02s/it]\n",
            "67it [00:54,  1.23it/s]\n"
          ]
        },
        {
          "output_type": "stream",
          "name": "stdout",
          "text": [
            "Val Progress --- total:4245, correct:555\n",
            "Val Accuracy of the network on the 10000 test images: 13.07420539855957%\n",
            "Epoch [43/50], TRNLoss:2.0790, VALLoss:83916207.9350, Time:1.18\n"
          ]
        },
        {
          "output_type": "stream",
          "name": "stderr",
          "text": [
            "16it [00:16,  1.01s/it]\n",
            "67it [00:56,  1.18it/s]\n"
          ]
        },
        {
          "output_type": "stream",
          "name": "stdout",
          "text": [
            "Val Progress --- total:4245, correct:509\n",
            "Val Accuracy of the network on the 10000 test images: 11.990577697753906%\n",
            "Epoch [44/50], TRNLoss:2.0800, VALLoss:59606302.8936, Time:1.21\n"
          ]
        },
        {
          "output_type": "stream",
          "name": "stderr",
          "text": [
            "16it [00:17,  1.07s/it]\n",
            "67it [00:55,  1.20it/s]\n"
          ]
        },
        {
          "output_type": "stream",
          "name": "stdout",
          "text": [
            "Val Progress --- total:4245, correct:541\n",
            "Val Accuracy of the network on the 10000 test images: 12.744405746459961%\n",
            "Epoch    45: reducing learning rate of group 0 to 1.0935e-05.\n",
            "Epoch [45/50], TRNLoss:2.0793, VALLoss:692581881.8035, Time:1.22\n"
          ]
        },
        {
          "output_type": "stream",
          "name": "stderr",
          "text": [
            "16it [00:16,  1.01s/it]\n",
            "67it [00:56,  1.18it/s]\n"
          ]
        },
        {
          "output_type": "stream",
          "name": "stdout",
          "text": [
            "Val Progress --- total:4245, correct:478\n",
            "Val Accuracy of the network on the 10000 test images: 11.260306358337402%\n",
            "Epoch [46/50], TRNLoss:2.0792, VALLoss:453792982.6081, Time:1.22\n"
          ]
        },
        {
          "output_type": "stream",
          "name": "stderr",
          "text": [
            "16it [00:19,  1.25s/it]\n",
            "67it [00:56,  1.18it/s]\n"
          ]
        },
        {
          "output_type": "stream",
          "name": "stdout",
          "text": [
            "Val Progress --- total:4245, correct:586\n",
            "Val Accuracy of the network on the 10000 test images: 13.804475784301758%\n",
            "Epoch [47/50], TRNLoss:2.0796, VALLoss:956027398.8184, Time:1.28\n"
          ]
        },
        {
          "output_type": "stream",
          "name": "stderr",
          "text": [
            "16it [00:16,  1.04s/it]\n",
            "67it [00:57,  1.17it/s]\n"
          ]
        },
        {
          "output_type": "stream",
          "name": "stdout",
          "text": [
            "Val Progress --- total:4245, correct:534\n",
            "Val Accuracy of the network on the 10000 test images: 12.579505920410156%\n",
            "Epoch [48/50], TRNLoss:2.0789, VALLoss:30364813.9789, Time:1.23\n"
          ]
        },
        {
          "output_type": "stream",
          "name": "stderr",
          "text": [
            "16it [00:16,  1.03s/it]\n",
            "67it [00:56,  1.19it/s]\n"
          ]
        },
        {
          "output_type": "stream",
          "name": "stdout",
          "text": [
            "Val Progress --- total:4245, correct:537\n",
            "Val Accuracy of the network on the 10000 test images: 12.650177001953125%\n",
            "Epoch [49/50], TRNLoss:2.0798, VALLoss:2541160891.3278, Time:1.22\n"
          ]
        },
        {
          "output_type": "stream",
          "name": "stderr",
          "text": [
            "16it [00:16,  1.03s/it]\n",
            "67it [00:57,  1.17it/s]"
          ]
        },
        {
          "output_type": "stream",
          "name": "stdout",
          "text": [
            "Val Progress --- total:4245, correct:528\n",
            "Val Accuracy of the network on the 10000 test images: 12.438162803649902%\n",
            "Epoch [50/50], TRNLoss:2.0791, VALLoss:1537842405.0893, Time:1.23\n"
          ]
        },
        {
          "output_type": "stream",
          "name": "stderr",
          "text": [
            "\n"
          ]
        }
      ]
    },
    {
      "cell_type": "code",
      "metadata": {
        "colab": {
          "background_save": true
        },
        "id": "-X12BjeZtmKq"
      },
      "source": [
        ""
      ],
      "execution_count": null,
      "outputs": []
    }
  ]
}